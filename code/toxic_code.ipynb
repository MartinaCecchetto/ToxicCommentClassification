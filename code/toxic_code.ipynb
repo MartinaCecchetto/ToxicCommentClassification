{
  "nbformat": 4,
  "nbformat_minor": 0,
  "metadata": {
    "accelerator": "GPU",
    "colab": {
      "name": "toxic_code.ipynb",
      "provenance": [],
      "collapsed_sections": [],
      "toc_visible": true,
      "include_colab_link": true
    },
    "kernelspec": {
      "display_name": "Python 3",
      "name": "python3"
    }
  },
  "cells": [
    {
      "cell_type": "markdown",
      "metadata": {
        "id": "view-in-github",
        "colab_type": "text"
      },
      "source": [
        "<a href=\"https://colab.research.google.com/github/MartinaCecchetto/ToxicCommentClassification/blob/main/code/toxic_code.ipynb\" target=\"_parent\"><img src=\"https://colab.research.google.com/assets/colab-badge.svg\" alt=\"Open In Colab\"/></a>"
      ]
    },
    {
      "cell_type": "markdown",
      "metadata": {
        "id": "nwmxcEhuBydF"
      },
      "source": [
        "***TOXIC COMMENT CLASSIFICATION***\r\n",
        "\r\n",
        "**Advance Machine Learning, a.a. 2020-21** \r\n",
        "\r\n",
        "Roberta Bensi - 861555 - r.bensi@campus.unimib.it\r\n",
        "\r\n",
        "Martina Roberta Cecchetto - 852566 - m.cecchetto2@campus.unimib.it \r\n",
        "\r\n",
        "Giuseppe Monea - 850432 - g.monea@campus.unimib.it\r\n"
      ]
    },
    {
      "cell_type": "code",
      "metadata": {
        "colab": {
          "base_uri": "https://localhost:8080/"
        },
        "id": "dcX1y5QyEU_t",
        "outputId": "d9d6691e-b0fc-4faa-8cd6-64fe74103752"
      },
      "source": [
        "import tensorflow as tf\n",
        "from keras.models import Model\n",
        "from keras.layers import Flatten\n",
        "from keras.models import Sequential\n",
        "from keras.layers import Dense, Embedding, Input\n",
        "from keras.layers import LSTM, Bidirectional, GlobalMaxPool1D, Dropout, Conv1D, MaxPooling1D, GRU\n",
        "from keras.metrics import Precision, Recall\n",
        "from keras.preprocessing import text, sequence\n",
        "from keras.callbacks import EarlyStopping, ModelCheckpoint\n",
        "from keras.optimizers import RMSprop, Adam, SGD, Adamax\n",
        "import sklearn \n",
        "from sklearn.model_selection import train_test_split\n",
        "import matplotlib.pyplot as plt\n",
        "from keras.metrics import TruePositives, TrueNegatives, FalsePositives, FalseNegatives, Recall, Precision, AUC\n",
        "import regex as re\n",
        "from tensorflow.keras.callbacks import EarlyStopping\n",
        "import numpy as np\n",
        "import random as python_random\n",
        "import pandas as pd\n",
        "!pip install contractions\n",
        "import contractions\n",
        "import nltk\n",
        "nltk.download('stopwords')\n",
        "from nltk.corpus import stopwords \n",
        "from tensorflow.keras import layers\n",
        "from tensorflow.keras import regularizers\n",
        "from nltk.stem import WordNetLemmatizer \n",
        "from sklearn.utils import class_weight\n",
        "!pip install textaugment\n",
        "from textaugment import EDA\n",
        "nltk.download('wordnet')\n",
        "from sklearn.metrics import classification_report, accuracy_score"
      ],
      "execution_count": null,
      "outputs": [
        {
          "output_type": "stream",
          "text": [
            "Requirement already satisfied: contractions in /usr/local/lib/python3.6/dist-packages (0.0.45)\n",
            "Requirement already satisfied: textsearch in /usr/local/lib/python3.6/dist-packages (from contractions) (0.0.17)\n",
            "Requirement already satisfied: pyahocorasick in /usr/local/lib/python3.6/dist-packages (from textsearch->contractions) (1.4.0)\n",
            "Requirement already satisfied: Unidecode in /usr/local/lib/python3.6/dist-packages (from textsearch->contractions) (1.1.2)\n",
            "[nltk_data] Downloading package stopwords to /root/nltk_data...\n",
            "[nltk_data]   Package stopwords is already up-to-date!\n",
            "Requirement already satisfied: textaugment in /usr/local/lib/python3.6/dist-packages (1.3.4)\n",
            "Requirement already satisfied: gensim in /usr/local/lib/python3.6/dist-packages (from textaugment) (3.6.0)\n",
            "Requirement already satisfied: nltk in /usr/local/lib/python3.6/dist-packages (from textaugment) (3.2.5)\n",
            "Requirement already satisfied: googletrans in /usr/local/lib/python3.6/dist-packages (from textaugment) (3.0.0)\n",
            "Requirement already satisfied: textblob in /usr/local/lib/python3.6/dist-packages (from textaugment) (0.15.3)\n",
            "Requirement already satisfied: numpy in /usr/local/lib/python3.6/dist-packages (from textaugment) (1.19.5)\n",
            "Requirement already satisfied: smart-open>=1.2.1 in /usr/local/lib/python3.6/dist-packages (from gensim->textaugment) (4.1.0)\n",
            "Requirement already satisfied: six>=1.5.0 in /usr/local/lib/python3.6/dist-packages (from gensim->textaugment) (1.15.0)\n",
            "Requirement already satisfied: scipy>=0.18.1 in /usr/local/lib/python3.6/dist-packages (from gensim->textaugment) (1.4.1)\n",
            "Requirement already satisfied: httpx==0.13.3 in /usr/local/lib/python3.6/dist-packages (from googletrans->textaugment) (0.13.3)\n",
            "Requirement already satisfied: hstspreload in /usr/local/lib/python3.6/dist-packages (from httpx==0.13.3->googletrans->textaugment) (2020.12.22)\n",
            "Requirement already satisfied: httpcore==0.9.* in /usr/local/lib/python3.6/dist-packages (from httpx==0.13.3->googletrans->textaugment) (0.9.1)\n",
            "Requirement already satisfied: rfc3986<2,>=1.3 in /usr/local/lib/python3.6/dist-packages (from httpx==0.13.3->googletrans->textaugment) (1.4.0)\n",
            "Requirement already satisfied: sniffio in /usr/local/lib/python3.6/dist-packages (from httpx==0.13.3->googletrans->textaugment) (1.2.0)\n",
            "Requirement already satisfied: certifi in /usr/local/lib/python3.6/dist-packages (from httpx==0.13.3->googletrans->textaugment) (2020.12.5)\n",
            "Requirement already satisfied: chardet==3.* in /usr/local/lib/python3.6/dist-packages (from httpx==0.13.3->googletrans->textaugment) (3.0.4)\n",
            "Requirement already satisfied: idna==2.* in /usr/local/lib/python3.6/dist-packages (from httpx==0.13.3->googletrans->textaugment) (2.10)\n",
            "Requirement already satisfied: h2==3.* in /usr/local/lib/python3.6/dist-packages (from httpcore==0.9.*->httpx==0.13.3->googletrans->textaugment) (3.2.0)\n",
            "Requirement already satisfied: h11<0.10,>=0.8 in /usr/local/lib/python3.6/dist-packages (from httpcore==0.9.*->httpx==0.13.3->googletrans->textaugment) (0.9.0)\n",
            "Requirement already satisfied: contextvars>=2.1; python_version < \"3.7\" in /usr/local/lib/python3.6/dist-packages (from sniffio->httpx==0.13.3->googletrans->textaugment) (2.4)\n",
            "Requirement already satisfied: hyperframe<6,>=5.2.0 in /usr/local/lib/python3.6/dist-packages (from h2==3.*->httpcore==0.9.*->httpx==0.13.3->googletrans->textaugment) (5.2.0)\n",
            "Requirement already satisfied: hpack<4,>=3.0 in /usr/local/lib/python3.6/dist-packages (from h2==3.*->httpcore==0.9.*->httpx==0.13.3->googletrans->textaugment) (3.0.0)\n",
            "Requirement already satisfied: immutables>=0.9 in /usr/local/lib/python3.6/dist-packages (from contextvars>=2.1; python_version < \"3.7\"->sniffio->httpx==0.13.3->googletrans->textaugment) (0.14)\n",
            "[nltk_data] Downloading package wordnet to /root/nltk_data...\n",
            "[nltk_data]   Package wordnet is already up-to-date!\n"
          ],
          "name": "stdout"
        }
      ]
    },
    {
      "cell_type": "code",
      "metadata": {
        "id": "2KyBjjvaEawk"
      },
      "source": [
        "# Seed value (can actually be different for each attribution step)\n",
        "seed_value= 0\n",
        "\n",
        "# 1. Set `PYTHONHASHSEED` environment variable at a fixed value\n",
        "import os\n",
        "os.environ['PYTHONHASHSEED']=str(123)\n",
        "\n",
        "# 2. Set `python` built-in pseudo-random generator at a fixed value\n",
        "import random\n",
        "random.seed(123)\n",
        "\n",
        "# 3. Set `numpy` pseudo-random generator at a fixed value\n",
        "import numpy as np\n",
        "np.random.seed(1234)\n",
        "\n",
        "# 4. Set `tensorflow` pseudo-random generator at a fixed value\n",
        "import tensorflow as tf\n",
        "tf.random.set_seed(1234) # tensorflow 2.x\n",
        "# tf.set_random_seed(seed_value) # tensorflow 1.x\n",
        "\n",
        "# 5. Configure a new global `tensorflow` session\n",
        "from keras import backend as K\n",
        "session_conf = tf.compat.v1.ConfigProto(intra_op_parallelism_threads=1, inter_op_parallelism_threads=1)\n",
        "sess = tf.compat.v1.Session(graph=tf.compat.v1.get_default_graph(), config=session_conf)\n",
        "tf.compat.v1.keras.backend.set_session(sess)"
      ],
      "execution_count": null,
      "outputs": []
    },
    {
      "cell_type": "code",
      "metadata": {
        "id": "3LGyo_SjEdSu",
        "colab": {
          "base_uri": "https://localhost:8080/"
        },
        "outputId": "ac5233e7-fe72-4d2a-9e5d-91c71d5b5917"
      },
      "source": [
        "from google.colab import drive\n",
        "import os \n",
        "drive.mount('/content/drive', force_remount=True)\n",
        "os.chdir('/content/drive/My Drive/AML/AML Progetto/')\n",
        "data_folder = \"data/\""
      ],
      "execution_count": null,
      "outputs": [
        {
          "output_type": "stream",
          "text": [
            "Mounted at /content/drive\n"
          ],
          "name": "stdout"
        }
      ]
    },
    {
      "cell_type": "markdown",
      "metadata": {
        "id": "2nZdqS6SEex7"
      },
      "source": [
        "# **TRAIN UPLOAD**"
      ]
    },
    {
      "cell_type": "code",
      "metadata": {
        "id": "FgYyI7u6Eml2",
        "colab": {
          "base_uri": "https://localhost:8080/"
        },
        "outputId": "4c6973a0-1452-48d0-d1e1-0e2a707ea33e"
      },
      "source": [
        "train=pd.read_csv(data_folder+ \"train.csv\")\n",
        "train"
      ],
      "execution_count": null,
      "outputs": [
        {
          "output_type": "execute_result",
          "data": {
            "text/html": [
              "<div>\n",
              "<style scoped>\n",
              "    .dataframe tbody tr th:only-of-type {\n",
              "        vertical-align: middle;\n",
              "    }\n",
              "\n",
              "    .dataframe tbody tr th {\n",
              "        vertical-align: top;\n",
              "    }\n",
              "\n",
              "    .dataframe thead th {\n",
              "        text-align: right;\n",
              "    }\n",
              "</style>\n",
              "<table border=\"1\" class=\"dataframe\">\n",
              "  <thead>\n",
              "    <tr style=\"text-align: right;\">\n",
              "      <th></th>\n",
              "      <th>id</th>\n",
              "      <th>comment_text</th>\n",
              "      <th>toxic</th>\n",
              "      <th>severe_toxic</th>\n",
              "      <th>obscene</th>\n",
              "      <th>threat</th>\n",
              "      <th>insult</th>\n",
              "      <th>identity_hate</th>\n",
              "    </tr>\n",
              "  </thead>\n",
              "  <tbody>\n",
              "    <tr>\n",
              "      <th>0</th>\n",
              "      <td>0000997932d777bf</td>\n",
              "      <td>Explanation\\nWhy the edits made under my usern...</td>\n",
              "      <td>0</td>\n",
              "      <td>0</td>\n",
              "      <td>0</td>\n",
              "      <td>0</td>\n",
              "      <td>0</td>\n",
              "      <td>0</td>\n",
              "    </tr>\n",
              "    <tr>\n",
              "      <th>1</th>\n",
              "      <td>000103f0d9cfb60f</td>\n",
              "      <td>D'aww! He matches this background colour I'm s...</td>\n",
              "      <td>0</td>\n",
              "      <td>0</td>\n",
              "      <td>0</td>\n",
              "      <td>0</td>\n",
              "      <td>0</td>\n",
              "      <td>0</td>\n",
              "    </tr>\n",
              "    <tr>\n",
              "      <th>2</th>\n",
              "      <td>000113f07ec002fd</td>\n",
              "      <td>Hey man, I'm really not trying to edit war. It...</td>\n",
              "      <td>0</td>\n",
              "      <td>0</td>\n",
              "      <td>0</td>\n",
              "      <td>0</td>\n",
              "      <td>0</td>\n",
              "      <td>0</td>\n",
              "    </tr>\n",
              "    <tr>\n",
              "      <th>3</th>\n",
              "      <td>0001b41b1c6bb37e</td>\n",
              "      <td>\"\\nMore\\nI can't make any real suggestions on ...</td>\n",
              "      <td>0</td>\n",
              "      <td>0</td>\n",
              "      <td>0</td>\n",
              "      <td>0</td>\n",
              "      <td>0</td>\n",
              "      <td>0</td>\n",
              "    </tr>\n",
              "    <tr>\n",
              "      <th>4</th>\n",
              "      <td>0001d958c54c6e35</td>\n",
              "      <td>You, sir, are my hero. Any chance you remember...</td>\n",
              "      <td>0</td>\n",
              "      <td>0</td>\n",
              "      <td>0</td>\n",
              "      <td>0</td>\n",
              "      <td>0</td>\n",
              "      <td>0</td>\n",
              "    </tr>\n",
              "    <tr>\n",
              "      <th>...</th>\n",
              "      <td>...</td>\n",
              "      <td>...</td>\n",
              "      <td>...</td>\n",
              "      <td>...</td>\n",
              "      <td>...</td>\n",
              "      <td>...</td>\n",
              "      <td>...</td>\n",
              "      <td>...</td>\n",
              "    </tr>\n",
              "    <tr>\n",
              "      <th>159566</th>\n",
              "      <td>ffe987279560d7ff</td>\n",
              "      <td>\":::::And for the second time of asking, when ...</td>\n",
              "      <td>0</td>\n",
              "      <td>0</td>\n",
              "      <td>0</td>\n",
              "      <td>0</td>\n",
              "      <td>0</td>\n",
              "      <td>0</td>\n",
              "    </tr>\n",
              "    <tr>\n",
              "      <th>159567</th>\n",
              "      <td>ffea4adeee384e90</td>\n",
              "      <td>You should be ashamed of yourself \\n\\nThat is ...</td>\n",
              "      <td>0</td>\n",
              "      <td>0</td>\n",
              "      <td>0</td>\n",
              "      <td>0</td>\n",
              "      <td>0</td>\n",
              "      <td>0</td>\n",
              "    </tr>\n",
              "    <tr>\n",
              "      <th>159568</th>\n",
              "      <td>ffee36eab5c267c9</td>\n",
              "      <td>Spitzer \\n\\nUmm, theres no actual article for ...</td>\n",
              "      <td>0</td>\n",
              "      <td>0</td>\n",
              "      <td>0</td>\n",
              "      <td>0</td>\n",
              "      <td>0</td>\n",
              "      <td>0</td>\n",
              "    </tr>\n",
              "    <tr>\n",
              "      <th>159569</th>\n",
              "      <td>fff125370e4aaaf3</td>\n",
              "      <td>And it looks like it was actually you who put ...</td>\n",
              "      <td>0</td>\n",
              "      <td>0</td>\n",
              "      <td>0</td>\n",
              "      <td>0</td>\n",
              "      <td>0</td>\n",
              "      <td>0</td>\n",
              "    </tr>\n",
              "    <tr>\n",
              "      <th>159570</th>\n",
              "      <td>fff46fc426af1f9a</td>\n",
              "      <td>\"\\nAnd ... I really don't think you understand...</td>\n",
              "      <td>0</td>\n",
              "      <td>0</td>\n",
              "      <td>0</td>\n",
              "      <td>0</td>\n",
              "      <td>0</td>\n",
              "      <td>0</td>\n",
              "    </tr>\n",
              "  </tbody>\n",
              "</table>\n",
              "<p>159571 rows × 8 columns</p>\n",
              "</div>"
            ],
            "text/plain": [
              "                      id  ... identity_hate\n",
              "0       0000997932d777bf  ...             0\n",
              "1       000103f0d9cfb60f  ...             0\n",
              "2       000113f07ec002fd  ...             0\n",
              "3       0001b41b1c6bb37e  ...             0\n",
              "4       0001d958c54c6e35  ...             0\n",
              "...                  ...  ...           ...\n",
              "159566  ffe987279560d7ff  ...             0\n",
              "159567  ffea4adeee384e90  ...             0\n",
              "159568  ffee36eab5c267c9  ...             0\n",
              "159569  fff125370e4aaaf3  ...             0\n",
              "159570  fff46fc426af1f9a  ...             0\n",
              "\n",
              "[159571 rows x 8 columns]"
            ]
          },
          "metadata": {
            "tags": []
          },
          "execution_count": 4
        }
      ]
    },
    {
      "cell_type": "markdown",
      "metadata": {
        "id": "qKSCVZpBN-E-"
      },
      "source": [
        "Controllo di quali sono i commenti che non presentano tossicità ma presentano una sua sottocategoria."
      ]
    },
    {
      "cell_type": "code",
      "metadata": {
        "id": "b1FoXxn3cSc5",
        "colab": {
          "base_uri": "https://localhost:8080/"
        },
        "outputId": "f156d599-0c36-4426-9908-e5917c1581a4"
      },
      "source": [
        "train.loc[(train.toxic==0) & ((train.severe_toxic==1) | (train.obscene==1) | (train.threat==1) | (train.insult==1) | (train.identity_hate==1))]"
      ],
      "execution_count": null,
      "outputs": [
        {
          "output_type": "execute_result",
          "data": {
            "text/html": [
              "<div>\n",
              "<style scoped>\n",
              "    .dataframe tbody tr th:only-of-type {\n",
              "        vertical-align: middle;\n",
              "    }\n",
              "\n",
              "    .dataframe tbody tr th {\n",
              "        vertical-align: top;\n",
              "    }\n",
              "\n",
              "    .dataframe thead th {\n",
              "        text-align: right;\n",
              "    }\n",
              "</style>\n",
              "<table border=\"1\" class=\"dataframe\">\n",
              "  <thead>\n",
              "    <tr style=\"text-align: right;\">\n",
              "      <th></th>\n",
              "      <th>id</th>\n",
              "      <th>comment_text</th>\n",
              "      <th>toxic</th>\n",
              "      <th>severe_toxic</th>\n",
              "      <th>obscene</th>\n",
              "      <th>threat</th>\n",
              "      <th>insult</th>\n",
              "      <th>identity_hate</th>\n",
              "    </tr>\n",
              "  </thead>\n",
              "  <tbody>\n",
              "    <tr>\n",
              "      <th>179</th>\n",
              "      <td>006d11791d76b9f3</td>\n",
              "      <td>REPLY ABOVE:\\nThat was me, loser. The UN defin...</td>\n",
              "      <td>0</td>\n",
              "      <td>0</td>\n",
              "      <td>0</td>\n",
              "      <td>0</td>\n",
              "      <td>1</td>\n",
              "      <td>0</td>\n",
              "    </tr>\n",
              "    <tr>\n",
              "      <th>527</th>\n",
              "      <td>01625cc84c6ef15b</td>\n",
              "      <td>How do you know he is dead.  Its just his plan...</td>\n",
              "      <td>0</td>\n",
              "      <td>0</td>\n",
              "      <td>1</td>\n",
              "      <td>0</td>\n",
              "      <td>0</td>\n",
              "      <td>0</td>\n",
              "    </tr>\n",
              "    <tr>\n",
              "      <th>662</th>\n",
              "      <td>01ccf4d20d31dfbe</td>\n",
              "      <td>Hebrew Name of Lydia \\nAppologies to Til Eulen...</td>\n",
              "      <td>0</td>\n",
              "      <td>0</td>\n",
              "      <td>0</td>\n",
              "      <td>0</td>\n",
              "      <td>1</td>\n",
              "      <td>0</td>\n",
              "    </tr>\n",
              "    <tr>\n",
              "      <th>1232</th>\n",
              "      <td>0350c82d1f207e0e</td>\n",
              "      <td>Bleh. I'm all out of ideas. Is there really so...</td>\n",
              "      <td>0</td>\n",
              "      <td>0</td>\n",
              "      <td>1</td>\n",
              "      <td>0</td>\n",
              "      <td>0</td>\n",
              "      <td>0</td>\n",
              "    </tr>\n",
              "    <tr>\n",
              "      <th>1351</th>\n",
              "      <td>03aec26f9b6f9ba3</td>\n",
              "      <td>\"\\n\\n Stop. \\n\\nStop redirecting the Teddygodz...</td>\n",
              "      <td>0</td>\n",
              "      <td>0</td>\n",
              "      <td>0</td>\n",
              "      <td>0</td>\n",
              "      <td>1</td>\n",
              "      <td>0</td>\n",
              "    </tr>\n",
              "    <tr>\n",
              "      <th>...</th>\n",
              "      <td>...</td>\n",
              "      <td>...</td>\n",
              "      <td>...</td>\n",
              "      <td>...</td>\n",
              "      <td>...</td>\n",
              "      <td>...</td>\n",
              "      <td>...</td>\n",
              "      <td>...</td>\n",
              "    </tr>\n",
              "    <tr>\n",
              "      <th>158615</th>\n",
              "      <td>f0b46600c7cf2515</td>\n",
              "      <td>\"\"\"And at least Castro was trying to liberate ...</td>\n",
              "      <td>0</td>\n",
              "      <td>0</td>\n",
              "      <td>1</td>\n",
              "      <td>0</td>\n",
              "      <td>1</td>\n",
              "      <td>0</td>\n",
              "    </tr>\n",
              "    <tr>\n",
              "      <th>158793</th>\n",
              "      <td>f3d62179cdb93e58</td>\n",
              "      <td>Hey FayssalFag, will you ever get a life offli...</td>\n",
              "      <td>0</td>\n",
              "      <td>0</td>\n",
              "      <td>1</td>\n",
              "      <td>0</td>\n",
              "      <td>1</td>\n",
              "      <td>0</td>\n",
              "    </tr>\n",
              "    <tr>\n",
              "      <th>158933</th>\n",
              "      <td>f60a9bd97d717630</td>\n",
              "      <td>Administratore: I need your help to stop DIREK...</td>\n",
              "      <td>0</td>\n",
              "      <td>0</td>\n",
              "      <td>0</td>\n",
              "      <td>0</td>\n",
              "      <td>1</td>\n",
              "      <td>0</td>\n",
              "    </tr>\n",
              "    <tr>\n",
              "      <th>159103</th>\n",
              "      <td>f896893958bb1cec</td>\n",
              "      <td>OH DEAR OH DEAR, HOW FUKIN SAD. I WILL REGRET ...</td>\n",
              "      <td>0</td>\n",
              "      <td>0</td>\n",
              "      <td>1</td>\n",
              "      <td>0</td>\n",
              "      <td>0</td>\n",
              "      <td>0</td>\n",
              "    </tr>\n",
              "    <tr>\n",
              "      <th>159301</th>\n",
              "      <td>fbb9d76ad8911cc4</td>\n",
              "      <td>The first of your links is something to agree ...</td>\n",
              "      <td>0</td>\n",
              "      <td>0</td>\n",
              "      <td>1</td>\n",
              "      <td>0</td>\n",
              "      <td>0</td>\n",
              "      <td>0</td>\n",
              "    </tr>\n",
              "  </tbody>\n",
              "</table>\n",
              "<p>931 rows × 8 columns</p>\n",
              "</div>"
            ],
            "text/plain": [
              "                      id  ... identity_hate\n",
              "179     006d11791d76b9f3  ...             0\n",
              "527     01625cc84c6ef15b  ...             0\n",
              "662     01ccf4d20d31dfbe  ...             0\n",
              "1232    0350c82d1f207e0e  ...             0\n",
              "1351    03aec26f9b6f9ba3  ...             0\n",
              "...                  ...  ...           ...\n",
              "158615  f0b46600c7cf2515  ...             0\n",
              "158793  f3d62179cdb93e58  ...             0\n",
              "158933  f60a9bd97d717630  ...             0\n",
              "159103  f896893958bb1cec  ...             0\n",
              "159301  fbb9d76ad8911cc4  ...             0\n",
              "\n",
              "[931 rows x 8 columns]"
            ]
          },
          "metadata": {
            "tags": []
          },
          "execution_count": 5
        }
      ]
    },
    {
      "cell_type": "markdown",
      "metadata": {
        "id": "lEYgOAHQJjQD"
      },
      "source": [
        "Viene definita una funzione che sostituisca con 1 in tossicità se almeno una sottocategoria è presente."
      ]
    },
    {
      "cell_type": "code",
      "metadata": {
        "id": "xlDBoSFjKFSV"
      },
      "source": [
        "def toxic_fixed(toxic,severe_toxic,obscene,threat,insult,identity_hate):\n",
        "  if ((toxic==0) & ((severe_toxic==1) | (obscene==1) | (threat==1) | (insult==1) | (identity_hate==1))):\n",
        "    return 1 \n",
        "  return toxic"
      ],
      "execution_count": null,
      "outputs": []
    },
    {
      "cell_type": "code",
      "metadata": {
        "id": "c7TIO5OfJmzt"
      },
      "source": [
        "train['toxic']=train.apply(lambda x: toxic_fixed(x['toxic'],x['severe_toxic'],x['obscene'],x['threat'],\n",
        "                                                 x['insult'],x['identity_hate']), axis=1)"
      ],
      "execution_count": null,
      "outputs": []
    },
    {
      "cell_type": "markdown",
      "metadata": {
        "id": "EH_GZWPgOIt6"
      },
      "source": [
        "Viene definita una funzione per la pulizia del testo."
      ]
    },
    {
      "cell_type": "code",
      "metadata": {
        "id": "YHBH6mbD8_JR"
      },
      "source": [
        "def clean_comment(comment):\n",
        "  new_comment=comment.apply(lambda x: x.lower())\n",
        "  new_comment=new_comment.apply(lambda x: contractions.fix(x))\n",
        "  new_comment=new_comment.str.replace(\"[^a-zA-Z#]\", \" \")\n",
        "  new_comment=new_comment.str.replace(\"I\", \"i\")\n",
        "  new_comment=new_comment.apply(lambda mystring: ' '.join(mystring.split()))\n",
        "  return new_comment"
      ],
      "execution_count": null,
      "outputs": []
    },
    {
      "cell_type": "code",
      "metadata": {
        "id": "wfANUX-k9iey",
        "colab": {
          "base_uri": "https://localhost:8080/"
        },
        "outputId": "8d727956-b5d6-42cc-cf82-922789f02052"
      },
      "source": [
        "train['clean_comment']=clean_comment(train['comment_text'])\n",
        "print(train['clean_comment'])"
      ],
      "execution_count": null,
      "outputs": [
        {
          "output_type": "stream",
          "text": [
            "0         explanation why the edits made under my userna...\n",
            "1         d aww he matches this background colour i am s...\n",
            "2         hey man i am really not trying to edit war it ...\n",
            "3         more i can not make any real suggestions on im...\n",
            "4         you sir are my hero any chance you remember wh...\n",
            "                                ...                        \n",
            "159566    and for the second time of asking when your vi...\n",
            "159567    you should be ashamed of yourself that is a ho...\n",
            "159568    spitzer umm there is no actual article for pro...\n",
            "159569    and it looks like it was actually you who put ...\n",
            "159570    and i really do not think you understand i cam...\n",
            "Name: clean_comment, Length: 159571, dtype: object\n"
          ],
          "name": "stdout"
        }
      ]
    },
    {
      "cell_type": "markdown",
      "metadata": {
        "id": "zEFIhs-fYrWx"
      },
      "source": [
        "##Rimozione stop words"
      ]
    },
    {
      "cell_type": "markdown",
      "metadata": {
        "id": "TOPI6_z5OPYy"
      },
      "source": [
        "Si rimuovono le stop words."
      ]
    },
    {
      "cell_type": "code",
      "metadata": {
        "id": "dgBIeVIWMmcN",
        "colab": {
          "base_uri": "https://localhost:8080/"
        },
        "outputId": "ac05e8a1-32f9-4214-d39f-d57f44aee355"
      },
      "source": [
        "stop=set(stopwords.words('english'))\n",
        "train['clean_comment_wo_stopwords']=train['clean_comment'].apply(lambda x: ' '.join([word for word in x.split() if word not in stop]))\n",
        "train['clean_comment_wo_stopwords']"
      ],
      "execution_count": null,
      "outputs": [
        {
          "output_type": "execute_result",
          "data": {
            "text/plain": [
              "0         explanation edits made username hardcore metal...\n",
              "1         aww matches background colour seemingly stuck ...\n",
              "2         hey man really trying edit war guy constantly ...\n",
              "3         make real suggestions improvement wondered sec...\n",
              "4                             sir hero chance remember page\n",
              "                                ...                        \n",
              "159566    second time asking view completely contradicts...\n",
              "159567                 ashamed horrible thing put talk page\n",
              "159568    spitzer umm actual article prostitution ring c...\n",
              "159569    looks like actually put speedy first version d...\n",
              "159570    really think understand came idea bad right aw...\n",
              "Name: clean_comment_wo_stopwords, Length: 159571, dtype: object"
            ]
          },
          "metadata": {
            "tags": []
          },
          "execution_count": 10
        }
      ]
    },
    {
      "cell_type": "markdown",
      "metadata": {
        "id": "VLlA_F93P1Y2"
      },
      "source": [
        "## Subsampling"
      ]
    },
    {
      "cell_type": "markdown",
      "metadata": {
        "id": "U-heLRTlOVG0"
      },
      "source": [
        "Si effettua la tecnica del subsampling, prendendo tutti i commenti con tossicità e effettuando un sampling della stessa numerosità di commenti non tossici."
      ]
    },
    {
      "cell_type": "code",
      "metadata": {
        "id": "MhmlEVJYP4Nk"
      },
      "source": [
        "sub_train=pd.DataFrame()\n",
        "sub_train=train.loc[(train.toxic==1)]\n",
        "l=len(sub_train)\n",
        "row_non_toxic=train.loc[(train.toxic==0) & (train.obscene==0) & (train.threat==0) & (train.insult==0) & (train.identity_hate==0)]\n",
        "row_non_toxic= row_non_toxic.sample(l)\n",
        "sub_train=sub_train.append(row_non_toxic).sample(frac=1)"
      ],
      "execution_count": null,
      "outputs": []
    },
    {
      "cell_type": "markdown",
      "metadata": {
        "id": "nNtNMxdfH_5A"
      },
      "source": [
        "## Data augmentation"
      ]
    },
    {
      "cell_type": "markdown",
      "metadata": {
        "id": "l9P1-DgFOkqT"
      },
      "source": [
        "Si effettua la tecnica di data augmentation."
      ]
    },
    {
      "cell_type": "code",
      "metadata": {
        "id": "1fPwalujIZqQ",
        "colab": {
          "base_uri": "https://localhost:8080/"
        },
        "outputId": "6d83e9c9-6c8e-4b1c-84fa-2cfcf3f7e034"
      },
      "source": [
        "print(len(train.loc[train.toxic==0]))\n",
        "print(len(train.loc[train.toxic==1]))\n",
        "print(len(train.loc[train.severe_toxic==1]))\n",
        "print(len(train.loc[train.obscene==1]))\n",
        "print(len(train.loc[train.threat==1]))\n",
        "print(len(train.loc[train.insult==1]))\n",
        "print(len(train.loc[train.identity_hate==1]))\n",
        "\n"
      ],
      "execution_count": null,
      "outputs": [
        {
          "output_type": "stream",
          "text": [
            "143346\n",
            "16225\n",
            "1595\n",
            "8449\n",
            "478\n",
            "7877\n",
            "1405\n"
          ],
          "name": "stdout"
        }
      ]
    },
    {
      "cell_type": "markdown",
      "metadata": {
        "id": "BaqTDv-pOoiq"
      },
      "source": [
        "Viene definita una funzione che crea tre dataset ciascuno effettuando le seguenti modifiche al dataset originale: sostituzione dei sinonimi, scambio random di due parole (effettuato due volte) e una eliminazione random di parole nella frase (con probabilità dello 0,2).\n",
        "\n"
      ]
    },
    {
      "cell_type": "code",
      "metadata": {
        "id": "sIBafQoq-vI2"
      },
      "source": [
        "def data_augmentation(df, column):\n",
        "  t = EDA()\n",
        "  data_augmented_1=df.loc[(df[column]==1)]\n",
        "  data_augmented_2=df.loc[(df[column]==1)]\n",
        "  data_augmented_3=df.loc[(df[column]==1)]\n",
        "  #Synonym Replacement\n",
        "  data_augmented_1['augmented_text']=data_augmented_1['clean_comment'].apply(lambda x: t.synonym_replacement(x))\n",
        "  #Random Swap\n",
        "  data_augmented_2['augmented_text']=data_augmented_2['clean_comment'].apply(lambda x: t.random_swap(x))\n",
        "  data_augmented_2['augmented_text']=data_augmented_2['augmented_text'].apply(lambda x: t.random_swap(x))\n",
        "  #Random Deletion\n",
        "  data_augmented_3['augmented_text']=data_augmented_3['clean_comment'].apply(lambda x: t.random_deletion(x,p=0.2))\n",
        "  #Unione dei dataset\n",
        "  data_augmented=pd.DataFrame()\n",
        "  data_augmented=data_augmented.append(data_augmented_1)\n",
        "  data_augmented=data_augmented.append(data_augmented_2)\n",
        "  data_augmented=data_augmented.append(data_augmented_3)\n",
        "  del data_augmented['clean_comment_wo_stopwords']\n",
        "  stop=set(stopwords.words('english'))\n",
        "  data_augmented['clean_comment_wo_stopwords']=data_augmented['augmented_text'].apply(lambda x: ' '.join([word for word in str(x).split() if word not in stop]))\n",
        "  return data_augmented\n"
      ],
      "execution_count": null,
      "outputs": []
    },
    {
      "cell_type": "markdown",
      "metadata": {
        "id": "l3I32FRpPKIn"
      },
      "source": [
        "Si effettua la data augmentation delle seguenti categorie:\n",
        "*   toxic\n",
        "*   severe_toxic\n",
        "*   identity_hate\n",
        "*   threat"
      ]
    },
    {
      "cell_type": "markdown",
      "metadata": {
        "id": "19t4Hrh_FB3Y"
      },
      "source": [
        "### toxic"
      ]
    },
    {
      "cell_type": "code",
      "metadata": {
        "id": "ftK9ADJw_7xp",
        "colab": {
          "base_uri": "https://localhost:8080/"
        },
        "outputId": "890cf4ce-ecfe-4be3-e644-1b07875ff224"
      },
      "source": [
        "train_augmented=train\n",
        "data_augmented=data_augmentation(train_augmented, 'toxic')\n",
        "train_augmented=train_augmented.append(data_augmented)"
      ],
      "execution_count": null,
      "outputs": [
        {
          "output_type": "stream",
          "text": [
            "/usr/local/lib/python3.6/dist-packages/ipykernel_launcher.py:7: SettingWithCopyWarning: \n",
            "A value is trying to be set on a copy of a slice from a DataFrame.\n",
            "Try using .loc[row_indexer,col_indexer] = value instead\n",
            "\n",
            "See the caveats in the documentation: https://pandas.pydata.org/pandas-docs/stable/user_guide/indexing.html#returning-a-view-versus-a-copy\n",
            "  import sys\n",
            "/usr/local/lib/python3.6/dist-packages/ipykernel_launcher.py:9: SettingWithCopyWarning: \n",
            "A value is trying to be set on a copy of a slice from a DataFrame.\n",
            "Try using .loc[row_indexer,col_indexer] = value instead\n",
            "\n",
            "See the caveats in the documentation: https://pandas.pydata.org/pandas-docs/stable/user_guide/indexing.html#returning-a-view-versus-a-copy\n",
            "  if __name__ == '__main__':\n",
            "/usr/local/lib/python3.6/dist-packages/ipykernel_launcher.py:10: SettingWithCopyWarning: \n",
            "A value is trying to be set on a copy of a slice from a DataFrame.\n",
            "Try using .loc[row_indexer,col_indexer] = value instead\n",
            "\n",
            "See the caveats in the documentation: https://pandas.pydata.org/pandas-docs/stable/user_guide/indexing.html#returning-a-view-versus-a-copy\n",
            "  # Remove the CWD from sys.path while we load stuff.\n",
            "/usr/local/lib/python3.6/dist-packages/ipykernel_launcher.py:12: SettingWithCopyWarning: \n",
            "A value is trying to be set on a copy of a slice from a DataFrame.\n",
            "Try using .loc[row_indexer,col_indexer] = value instead\n",
            "\n",
            "See the caveats in the documentation: https://pandas.pydata.org/pandas-docs/stable/user_guide/indexing.html#returning-a-view-versus-a-copy\n",
            "  if sys.path[0] == '':\n"
          ],
          "name": "stderr"
        }
      ]
    },
    {
      "cell_type": "code",
      "metadata": {
        "id": "PlM7yHTECGJI",
        "colab": {
          "base_uri": "https://localhost:8080/"
        },
        "outputId": "0d202154-9564-44d0-86c5-bfdc4c30afe9"
      },
      "source": [
        "print(len(train_augmented.loc[train_augmented.toxic==0]))\n",
        "print(len(train_augmented.loc[train_augmented.toxic==1]))\n",
        "print(len(train_augmented.loc[train_augmented.severe_toxic==1]))\n",
        "print(len(train_augmented.loc[train_augmented.obscene==1]))\n",
        "print(len(train_augmented.loc[train_augmented.threat==1]))\n",
        "print(len(train_augmented.loc[train_augmented.insult==1]))\n",
        "print(len(train_augmented.loc[train_augmented.identity_hate==1]))"
      ],
      "execution_count": null,
      "outputs": [
        {
          "output_type": "stream",
          "text": [
            "143346\n",
            "64900\n",
            "6380\n",
            "33796\n",
            "1912\n",
            "31508\n",
            "5620\n"
          ],
          "name": "stdout"
        }
      ]
    },
    {
      "cell_type": "markdown",
      "metadata": {
        "id": "-apXK9xsFFhK"
      },
      "source": [
        "### severe_toxic"
      ]
    },
    {
      "cell_type": "code",
      "metadata": {
        "id": "g6hzoxHbAubr",
        "colab": {
          "base_uri": "https://localhost:8080/"
        },
        "outputId": "f0497d8e-77b4-4b3e-ecc2-be93bbde4fb1"
      },
      "source": [
        "train_augmented=train_augmented.append(data_augmentation(data_augmented, 'severe_toxic'))"
      ],
      "execution_count": null,
      "outputs": [
        {
          "output_type": "stream",
          "text": [
            "/usr/local/lib/python3.6/dist-packages/ipykernel_launcher.py:7: SettingWithCopyWarning: \n",
            "A value is trying to be set on a copy of a slice from a DataFrame.\n",
            "Try using .loc[row_indexer,col_indexer] = value instead\n",
            "\n",
            "See the caveats in the documentation: https://pandas.pydata.org/pandas-docs/stable/user_guide/indexing.html#returning-a-view-versus-a-copy\n",
            "  import sys\n",
            "/usr/local/lib/python3.6/dist-packages/ipykernel_launcher.py:9: SettingWithCopyWarning: \n",
            "A value is trying to be set on a copy of a slice from a DataFrame.\n",
            "Try using .loc[row_indexer,col_indexer] = value instead\n",
            "\n",
            "See the caveats in the documentation: https://pandas.pydata.org/pandas-docs/stable/user_guide/indexing.html#returning-a-view-versus-a-copy\n",
            "  if __name__ == '__main__':\n",
            "/usr/local/lib/python3.6/dist-packages/ipykernel_launcher.py:10: SettingWithCopyWarning: \n",
            "A value is trying to be set on a copy of a slice from a DataFrame.\n",
            "Try using .loc[row_indexer,col_indexer] = value instead\n",
            "\n",
            "See the caveats in the documentation: https://pandas.pydata.org/pandas-docs/stable/user_guide/indexing.html#returning-a-view-versus-a-copy\n",
            "  # Remove the CWD from sys.path while we load stuff.\n",
            "/usr/local/lib/python3.6/dist-packages/ipykernel_launcher.py:12: SettingWithCopyWarning: \n",
            "A value is trying to be set on a copy of a slice from a DataFrame.\n",
            "Try using .loc[row_indexer,col_indexer] = value instead\n",
            "\n",
            "See the caveats in the documentation: https://pandas.pydata.org/pandas-docs/stable/user_guide/indexing.html#returning-a-view-versus-a-copy\n",
            "  if sys.path[0] == '':\n"
          ],
          "name": "stderr"
        }
      ]
    },
    {
      "cell_type": "code",
      "metadata": {
        "id": "Fp5ZW6BqCwCD",
        "colab": {
          "base_uri": "https://localhost:8080/"
        },
        "outputId": "38ac14c1-961c-4d88-8e54-f83f87f7707e"
      },
      "source": [
        "print(len(train_augmented.loc[train_augmented.toxic==0]))\n",
        "print(len(train_augmented.loc[train_augmented.toxic==1]))\n",
        "print(len(train_augmented.loc[train_augmented.severe_toxic==1]))\n",
        "print(len(train_augmented.loc[train_augmented.obscene==1]))\n",
        "print(len(train_augmented.loc[train_augmented.threat==1]))\n",
        "print(len(train_augmented.loc[train_augmented.insult==1]))\n",
        "print(len(train_augmented.loc[train_augmented.identity_hate==1]))"
      ],
      "execution_count": null,
      "outputs": [
        {
          "output_type": "stream",
          "text": [
            "143346\n",
            "79255\n",
            "20735\n",
            "47449\n",
            "2920\n",
            "43847\n",
            "8437\n"
          ],
          "name": "stdout"
        }
      ]
    },
    {
      "cell_type": "markdown",
      "metadata": {
        "id": "NjSi3OXfGDO_"
      },
      "source": [
        "### identity_hate"
      ]
    },
    {
      "cell_type": "code",
      "metadata": {
        "id": "2oi5xVJOGCt_",
        "colab": {
          "base_uri": "https://localhost:8080/"
        },
        "outputId": "375962ae-515b-45f5-c173-03d55d554a69"
      },
      "source": [
        "train_augmented=train_augmented.append(data_augmentation(data_augmented, 'identity_hate'))"
      ],
      "execution_count": null,
      "outputs": [
        {
          "output_type": "stream",
          "text": [
            "/usr/local/lib/python3.6/dist-packages/ipykernel_launcher.py:7: SettingWithCopyWarning: \n",
            "A value is trying to be set on a copy of a slice from a DataFrame.\n",
            "Try using .loc[row_indexer,col_indexer] = value instead\n",
            "\n",
            "See the caveats in the documentation: https://pandas.pydata.org/pandas-docs/stable/user_guide/indexing.html#returning-a-view-versus-a-copy\n",
            "  import sys\n",
            "/usr/local/lib/python3.6/dist-packages/ipykernel_launcher.py:9: SettingWithCopyWarning: \n",
            "A value is trying to be set on a copy of a slice from a DataFrame.\n",
            "Try using .loc[row_indexer,col_indexer] = value instead\n",
            "\n",
            "See the caveats in the documentation: https://pandas.pydata.org/pandas-docs/stable/user_guide/indexing.html#returning-a-view-versus-a-copy\n",
            "  if __name__ == '__main__':\n",
            "/usr/local/lib/python3.6/dist-packages/ipykernel_launcher.py:10: SettingWithCopyWarning: \n",
            "A value is trying to be set on a copy of a slice from a DataFrame.\n",
            "Try using .loc[row_indexer,col_indexer] = value instead\n",
            "\n",
            "See the caveats in the documentation: https://pandas.pydata.org/pandas-docs/stable/user_guide/indexing.html#returning-a-view-versus-a-copy\n",
            "  # Remove the CWD from sys.path while we load stuff.\n",
            "/usr/local/lib/python3.6/dist-packages/ipykernel_launcher.py:12: SettingWithCopyWarning: \n",
            "A value is trying to be set on a copy of a slice from a DataFrame.\n",
            "Try using .loc[row_indexer,col_indexer] = value instead\n",
            "\n",
            "See the caveats in the documentation: https://pandas.pydata.org/pandas-docs/stable/user_guide/indexing.html#returning-a-view-versus-a-copy\n",
            "  if sys.path[0] == '':\n"
          ],
          "name": "stderr"
        }
      ]
    },
    {
      "cell_type": "code",
      "metadata": {
        "id": "FEOu-6tuGHJz",
        "colab": {
          "base_uri": "https://localhost:8080/"
        },
        "outputId": "97e0e8f7-16fe-4e77-bca3-0d5d787cbf14"
      },
      "source": [
        "print(len(train_augmented.loc[train_augmented.toxic==0]))\n",
        "print(len(train_augmented.loc[train_augmented.toxic==1]))\n",
        "print(len(train_augmented.loc[train_augmented.severe_toxic==1]))\n",
        "print(len(train_augmented.loc[train_augmented.obscene==1]))\n",
        "print(len(train_augmented.loc[train_augmented.threat==1]))\n",
        "print(len(train_augmented.loc[train_augmented.insult==1]))\n",
        "print(len(train_augmented.loc[train_augmented.identity_hate==1]))"
      ],
      "execution_count": null,
      "outputs": [
        {
          "output_type": "stream",
          "text": [
            "143346\n",
            "91900\n",
            "23552\n",
            "56737\n",
            "3802\n",
            "54287\n",
            "21082\n"
          ],
          "name": "stdout"
        }
      ]
    },
    {
      "cell_type": "markdown",
      "metadata": {
        "id": "EPDazdG3FVN7"
      },
      "source": [
        "### threat"
      ]
    },
    {
      "cell_type": "code",
      "metadata": {
        "id": "zTS1B_tUA5xh",
        "colab": {
          "base_uri": "https://localhost:8080/"
        },
        "outputId": "2d6bc406-d60f-4e52-f0bf-85bac5767ca4"
      },
      "source": [
        "threat=data_augmentation(data_augmented, 'threat')\n",
        "train_augmented=train_augmented.append(threat)\n",
        "train_augmented=train_augmented.append(data_augmentation(threat, 'threat'))"
      ],
      "execution_count": null,
      "outputs": [
        {
          "output_type": "stream",
          "text": [
            "/usr/local/lib/python3.6/dist-packages/ipykernel_launcher.py:7: SettingWithCopyWarning: \n",
            "A value is trying to be set on a copy of a slice from a DataFrame.\n",
            "Try using .loc[row_indexer,col_indexer] = value instead\n",
            "\n",
            "See the caveats in the documentation: https://pandas.pydata.org/pandas-docs/stable/user_guide/indexing.html#returning-a-view-versus-a-copy\n",
            "  import sys\n",
            "/usr/local/lib/python3.6/dist-packages/ipykernel_launcher.py:9: SettingWithCopyWarning: \n",
            "A value is trying to be set on a copy of a slice from a DataFrame.\n",
            "Try using .loc[row_indexer,col_indexer] = value instead\n",
            "\n",
            "See the caveats in the documentation: https://pandas.pydata.org/pandas-docs/stable/user_guide/indexing.html#returning-a-view-versus-a-copy\n",
            "  if __name__ == '__main__':\n",
            "/usr/local/lib/python3.6/dist-packages/ipykernel_launcher.py:10: SettingWithCopyWarning: \n",
            "A value is trying to be set on a copy of a slice from a DataFrame.\n",
            "Try using .loc[row_indexer,col_indexer] = value instead\n",
            "\n",
            "See the caveats in the documentation: https://pandas.pydata.org/pandas-docs/stable/user_guide/indexing.html#returning-a-view-versus-a-copy\n",
            "  # Remove the CWD from sys.path while we load stuff.\n",
            "/usr/local/lib/python3.6/dist-packages/ipykernel_launcher.py:12: SettingWithCopyWarning: \n",
            "A value is trying to be set on a copy of a slice from a DataFrame.\n",
            "Try using .loc[row_indexer,col_indexer] = value instead\n",
            "\n",
            "See the caveats in the documentation: https://pandas.pydata.org/pandas-docs/stable/user_guide/indexing.html#returning-a-view-versus-a-copy\n",
            "  if sys.path[0] == '':\n"
          ],
          "name": "stderr"
        }
      ]
    },
    {
      "cell_type": "code",
      "metadata": {
        "id": "17AMiyaSCzsC",
        "colab": {
          "base_uri": "https://localhost:8080/"
        },
        "outputId": "6ccf1f0e-bd91-42f0-8a7e-1b3f1578d4bb"
      },
      "source": [
        "print(len(train_augmented.loc[train_augmented.toxic==0]))\n",
        "print(len(train_augmented.loc[train_augmented.toxic==1]))\n",
        "print(len(train_augmented.loc[train_augmented.severe_toxic==1]))\n",
        "print(len(train_augmented.loc[train_augmented.obscene==1]))\n",
        "print(len(train_augmented.loc[train_augmented.threat==1]))\n",
        "print(len(train_augmented.loc[train_augmented.insult==1]))\n",
        "print(len(train_augmented.loc[train_augmented.identity_hate==1]))"
      ],
      "execution_count": null,
      "outputs": [
        {
          "output_type": "stream",
          "text": [
            "143346\n",
            "109108\n",
            "27584\n",
            "67573\n",
            "21010\n",
            "65339\n",
            "24610\n"
          ],
          "name": "stdout"
        }
      ]
    },
    {
      "cell_type": "markdown",
      "metadata": {
        "id": "HPmXFcKQPaBQ"
      },
      "source": [
        "Dataset finale utilizzato per il training, con le sottocategorie aumentate:"
      ]
    },
    {
      "cell_type": "code",
      "metadata": {
        "id": "4c9d9nNUDn1o",
        "colab": {
          "base_uri": "https://localhost:8080/"
        },
        "outputId": "65318c58-b629-488e-b405-44da7a234808"
      },
      "source": [
        "train_augmented"
      ],
      "execution_count": null,
      "outputs": [
        {
          "output_type": "execute_result",
          "data": {
            "text/html": [
              "<div>\n",
              "<style scoped>\n",
              "    .dataframe tbody tr th:only-of-type {\n",
              "        vertical-align: middle;\n",
              "    }\n",
              "\n",
              "    .dataframe tbody tr th {\n",
              "        vertical-align: top;\n",
              "    }\n",
              "\n",
              "    .dataframe thead th {\n",
              "        text-align: right;\n",
              "    }\n",
              "</style>\n",
              "<table border=\"1\" class=\"dataframe\">\n",
              "  <thead>\n",
              "    <tr style=\"text-align: right;\">\n",
              "      <th></th>\n",
              "      <th>id</th>\n",
              "      <th>comment_text</th>\n",
              "      <th>toxic</th>\n",
              "      <th>severe_toxic</th>\n",
              "      <th>obscene</th>\n",
              "      <th>threat</th>\n",
              "      <th>insult</th>\n",
              "      <th>identity_hate</th>\n",
              "      <th>clean_comment</th>\n",
              "      <th>clean_comment_wo_stopwords</th>\n",
              "      <th>augmented_text</th>\n",
              "    </tr>\n",
              "  </thead>\n",
              "  <tbody>\n",
              "    <tr>\n",
              "      <th>0</th>\n",
              "      <td>0000997932d777bf</td>\n",
              "      <td>Explanation\\nWhy the edits made under my usern...</td>\n",
              "      <td>0</td>\n",
              "      <td>0</td>\n",
              "      <td>0</td>\n",
              "      <td>0</td>\n",
              "      <td>0</td>\n",
              "      <td>0</td>\n",
              "      <td>explanation why the edits made under my userna...</td>\n",
              "      <td>explanation edits made username hardcore metal...</td>\n",
              "      <td>NaN</td>\n",
              "    </tr>\n",
              "    <tr>\n",
              "      <th>1</th>\n",
              "      <td>000103f0d9cfb60f</td>\n",
              "      <td>D'aww! He matches this background colour I'm s...</td>\n",
              "      <td>0</td>\n",
              "      <td>0</td>\n",
              "      <td>0</td>\n",
              "      <td>0</td>\n",
              "      <td>0</td>\n",
              "      <td>0</td>\n",
              "      <td>d aww he matches this background colour i am s...</td>\n",
              "      <td>aww matches background colour seemingly stuck ...</td>\n",
              "      <td>NaN</td>\n",
              "    </tr>\n",
              "    <tr>\n",
              "      <th>2</th>\n",
              "      <td>000113f07ec002fd</td>\n",
              "      <td>Hey man, I'm really not trying to edit war. It...</td>\n",
              "      <td>0</td>\n",
              "      <td>0</td>\n",
              "      <td>0</td>\n",
              "      <td>0</td>\n",
              "      <td>0</td>\n",
              "      <td>0</td>\n",
              "      <td>hey man i am really not trying to edit war it ...</td>\n",
              "      <td>hey man really trying edit war guy constantly ...</td>\n",
              "      <td>NaN</td>\n",
              "    </tr>\n",
              "    <tr>\n",
              "      <th>3</th>\n",
              "      <td>0001b41b1c6bb37e</td>\n",
              "      <td>\"\\nMore\\nI can't make any real suggestions on ...</td>\n",
              "      <td>0</td>\n",
              "      <td>0</td>\n",
              "      <td>0</td>\n",
              "      <td>0</td>\n",
              "      <td>0</td>\n",
              "      <td>0</td>\n",
              "      <td>more i can not make any real suggestions on im...</td>\n",
              "      <td>make real suggestions improvement wondered sec...</td>\n",
              "      <td>NaN</td>\n",
              "    </tr>\n",
              "    <tr>\n",
              "      <th>4</th>\n",
              "      <td>0001d958c54c6e35</td>\n",
              "      <td>You, sir, are my hero. Any chance you remember...</td>\n",
              "      <td>0</td>\n",
              "      <td>0</td>\n",
              "      <td>0</td>\n",
              "      <td>0</td>\n",
              "      <td>0</td>\n",
              "      <td>0</td>\n",
              "      <td>you sir are my hero any chance you remember wh...</td>\n",
              "      <td>sir hero chance remember page</td>\n",
              "      <td>NaN</td>\n",
              "    </tr>\n",
              "    <tr>\n",
              "      <th>...</th>\n",
              "      <td>...</td>\n",
              "      <td>...</td>\n",
              "      <td>...</td>\n",
              "      <td>...</td>\n",
              "      <td>...</td>\n",
              "      <td>...</td>\n",
              "      <td>...</td>\n",
              "      <td>...</td>\n",
              "      <td>...</td>\n",
              "      <td>...</td>\n",
              "      <td>...</td>\n",
              "    </tr>\n",
              "    <tr>\n",
              "      <th>157718</th>\n",
              "      <td>e26b106943e02cbf</td>\n",
              "      <td>bitch \\nyou are a fucking hore. you suck dick ...</td>\n",
              "      <td>1</td>\n",
              "      <td>0</td>\n",
              "      <td>1</td>\n",
              "      <td>1</td>\n",
              "      <td>1</td>\n",
              "      <td>1</td>\n",
              "      <td>bitch you are a fucking hore you suck dick you...</td>\n",
              "      <td>bitch hore dick big ass hole gay bitch go hell...</td>\n",
              "      <td>bitch you are hore you dick you big ass hole y...</td>\n",
              "    </tr>\n",
              "    <tr>\n",
              "      <th>158717</th>\n",
              "      <td>f264b7fb9a4b4f53</td>\n",
              "      <td>stupid head \\n\\nYOur dumb and you are stupid d...</td>\n",
              "      <td>1</td>\n",
              "      <td>0</td>\n",
              "      <td>1</td>\n",
              "      <td>1</td>\n",
              "      <td>1</td>\n",
              "      <td>0</td>\n",
              "      <td>stupid head your dumb and you are stupid die d...</td>\n",
              "      <td>stupid dumb die die go</td>\n",
              "      <td>stupid your dumb and are die die go</td>\n",
              "    </tr>\n",
              "    <tr>\n",
              "      <th>158856</th>\n",
              "      <td>f4dca9e513e0366f</td>\n",
              "      <td>Hey \\n\\nhey faggot, are you dead yet? or are y...</td>\n",
              "      <td>1</td>\n",
              "      <td>1</td>\n",
              "      <td>1</td>\n",
              "      <td>1</td>\n",
              "      <td>1</td>\n",
              "      <td>0</td>\n",
              "      <td>hey hey faggot are you dead yet or are you wat...</td>\n",
              "      <td>hey hey faggot yet mom getting raped pigs one ...</td>\n",
              "      <td>hey hey faggot are you yet or are you mom gett...</td>\n",
              "    </tr>\n",
              "    <tr>\n",
              "      <th>159029</th>\n",
              "      <td>f780e4f42aa5a344</td>\n",
              "      <td>Death to Musulmans!</td>\n",
              "      <td>1</td>\n",
              "      <td>0</td>\n",
              "      <td>0</td>\n",
              "      <td>1</td>\n",
              "      <td>0</td>\n",
              "      <td>1</td>\n",
              "      <td>death to musulmans</td>\n",
              "      <td>musulmans</td>\n",
              "      <td>to musulmans</td>\n",
              "    </tr>\n",
              "    <tr>\n",
              "      <th>159400</th>\n",
              "      <td>fd052883fa6a8697</td>\n",
              "      <td>Shalom \\n\\nSemite, get the fuck out of here. I...</td>\n",
              "      <td>1</td>\n",
              "      <td>1</td>\n",
              "      <td>1</td>\n",
              "      <td>1</td>\n",
              "      <td>1</td>\n",
              "      <td>1</td>\n",
              "      <td>shalom semite get the fuck out of here i will ...</td>\n",
              "      <td>shalom semite get fuck kill bitch leave wikipe...</td>\n",
              "      <td>shalom semite get the fuck out of here i will ...</td>\n",
              "    </tr>\n",
              "  </tbody>\n",
              "</table>\n",
              "<p>252454 rows × 11 columns</p>\n",
              "</div>"
            ],
            "text/plain": [
              "                      id  ...                                     augmented_text\n",
              "0       0000997932d777bf  ...                                                NaN\n",
              "1       000103f0d9cfb60f  ...                                                NaN\n",
              "2       000113f07ec002fd  ...                                                NaN\n",
              "3       0001b41b1c6bb37e  ...                                                NaN\n",
              "4       0001d958c54c6e35  ...                                                NaN\n",
              "...                  ...  ...                                                ...\n",
              "157718  e26b106943e02cbf  ...  bitch you are hore you dick you big ass hole y...\n",
              "158717  f264b7fb9a4b4f53  ...                stupid your dumb and are die die go\n",
              "158856  f4dca9e513e0366f  ...  hey hey faggot are you yet or are you mom gett...\n",
              "159029  f780e4f42aa5a344  ...                                       to musulmans\n",
              "159400  fd052883fa6a8697  ...  shalom semite get the fuck out of here i will ...\n",
              "\n",
              "[252454 rows x 11 columns]"
            ]
          },
          "metadata": {
            "tags": []
          },
          "execution_count": 22
        }
      ]
    },
    {
      "cell_type": "markdown",
      "metadata": {
        "id": "uMrzIlVZY5-W"
      },
      "source": [
        "##Tokenization"
      ]
    },
    {
      "cell_type": "markdown",
      "metadata": {
        "id": "QaKPuxPsPhrD"
      },
      "source": [
        "Si effettua la tokenizzazione delle frasi nei due casi (subsampling e data_augmentation)"
      ]
    },
    {
      "cell_type": "markdown",
      "metadata": {
        "id": "k5jMFVVCRW5s"
      },
      "source": [
        "### Se subsampling"
      ]
    },
    {
      "cell_type": "code",
      "metadata": {
        "id": "XVUebtAxR55t",
        "colab": {
          "base_uri": "https://localhost:8080/"
        },
        "outputId": "e86102c9-3931-4749-ad45-05eec0e17ee5"
      },
      "source": [
        "list_sentences_train = sub_train['clean_comment_wo_stopwords'].fillna(\"null\").values\n",
        "tokenizer_subsampling = text.Tokenizer(num_words=60000)\n",
        "tokenizer_subsampling.fit_on_texts(list(list_sentences_train))\n",
        "list_tokenized_train = tokenizer_subsampling.texts_to_sequences(list_sentences_train)\n",
        "average = sum(len(word) for word in list_tokenized_train) / len(list_tokenized_train)\n",
        "print(average)\n",
        "x_train_subsampling = sequence.pad_sequences(list_tokenized_train, maxlen=150)"
      ],
      "execution_count": null,
      "outputs": [
        {
          "output_type": "stream",
          "text": [
            "31.824560862865948\n"
          ],
          "name": "stdout"
        }
      ]
    },
    {
      "cell_type": "markdown",
      "metadata": {
        "id": "7G5jSTuyRSRV"
      },
      "source": [
        "### Se data augmentation"
      ]
    },
    {
      "cell_type": "code",
      "metadata": {
        "id": "oaLhvtTJnqvz",
        "colab": {
          "base_uri": "https://localhost:8080/"
        },
        "outputId": "9aec1899-469c-4dfd-c20b-d8d7f9613ab6"
      },
      "source": [
        "train_augmented=train_augmented.sample(frac=1)\n",
        "train_augmented=train_augmented.reset_index(drop=True)\n",
        "list_sentences_train = train_augmented['clean_comment_wo_stopwords'].fillna(\"null\").values\n",
        "tokenizer_data_augmentation= text.Tokenizer(num_words=60000)\n",
        "tokenizer_data_augmentation.fit_on_texts(list(list_sentences_train))\n",
        "list_tokenized_train = tokenizer_data_augmentation.texts_to_sequences(list_sentences_train)\n",
        "average = sum(len(word) for word in list_tokenized_train) / len(list_tokenized_train)\n",
        "print(average)\n",
        "x_train_data_augmentation = sequence.pad_sequences(list_tokenized_train, maxlen=150)"
      ],
      "execution_count": null,
      "outputs": [
        {
          "output_type": "stream",
          "text": [
            "32.40838727055226\n"
          ],
          "name": "stdout"
        }
      ]
    },
    {
      "cell_type": "markdown",
      "metadata": {
        "id": "FK1i0x0dGT-V"
      },
      "source": [
        "# **TEST UPLOAD**"
      ]
    },
    {
      "cell_type": "markdown",
      "metadata": {
        "id": "8mjOMaDcPtj_"
      },
      "source": [
        "Si carica il test rimuovendo successivamente i commenti che presentano -1 come valori ad ogni label."
      ]
    },
    {
      "cell_type": "code",
      "metadata": {
        "id": "3nA7oJ9pGXLp",
        "colab": {
          "base_uri": "https://localhost:8080/"
        },
        "outputId": "2445494a-96ed-4da2-a8eb-6dd284eca601"
      },
      "source": [
        "test=pd.read_csv(data_folder+ \"test.csv\")\n",
        "test_labels=pd.read_csv(data_folder+ \"test_labels.csv\")\n",
        "print(test)\n",
        "print(test_labels)\n",
        "test_labels=test_labels.loc[(test_labels.toxic==0) | (test_labels.toxic==1)]"
      ],
      "execution_count": null,
      "outputs": [
        {
          "output_type": "stream",
          "text": [
            "                      id                                       comment_text\n",
            "0       00001cee341fdb12  Yo bitch Ja Rule is more succesful then you'll...\n",
            "1       0000247867823ef7  == From RfC == \\n\\n The title is fine as it is...\n",
            "2       00013b17ad220c46  \" \\n\\n == Sources == \\n\\n * Zawe Ashton on Lap...\n",
            "3       00017563c3f7919a  :If you have a look back at the source, the in...\n",
            "4       00017695ad8997eb          I don't anonymously edit articles at all.\n",
            "...                  ...                                                ...\n",
            "153159  fffcd0960ee309b5  . \\n i totally agree, this stuff is nothing bu...\n",
            "153160  fffd7a9a6eb32c16  == Throw from out field to home plate. == \\n\\n...\n",
            "153161  fffda9e8d6fafa9e  \" \\n\\n == Okinotorishima categories == \\n\\n I ...\n",
            "153162  fffe8f1340a79fc2  \" \\n\\n == \"\"One of the founding nations of the...\n",
            "153163  ffffce3fb183ee80  \" \\n :::Stop already. Your bullshit is not wel...\n",
            "\n",
            "[153164 rows x 2 columns]\n",
            "                      id  toxic  severe_toxic  ...  threat  insult  identity_hate\n",
            "0       00001cee341fdb12     -1            -1  ...      -1      -1             -1\n",
            "1       0000247867823ef7     -1            -1  ...      -1      -1             -1\n",
            "2       00013b17ad220c46     -1            -1  ...      -1      -1             -1\n",
            "3       00017563c3f7919a     -1            -1  ...      -1      -1             -1\n",
            "4       00017695ad8997eb     -1            -1  ...      -1      -1             -1\n",
            "...                  ...    ...           ...  ...     ...     ...            ...\n",
            "153159  fffcd0960ee309b5     -1            -1  ...      -1      -1             -1\n",
            "153160  fffd7a9a6eb32c16     -1            -1  ...      -1      -1             -1\n",
            "153161  fffda9e8d6fafa9e     -1            -1  ...      -1      -1             -1\n",
            "153162  fffe8f1340a79fc2     -1            -1  ...      -1      -1             -1\n",
            "153163  ffffce3fb183ee80     -1            -1  ...      -1      -1             -1\n",
            "\n",
            "[153164 rows x 7 columns]\n"
          ],
          "name": "stdout"
        }
      ]
    },
    {
      "cell_type": "markdown",
      "metadata": {
        "id": "9n5C4Wx9P1Eg"
      },
      "source": [
        "Si effettua la pulizia dei commenti."
      ]
    },
    {
      "cell_type": "code",
      "metadata": {
        "id": "EIaX0VmuGha9",
        "colab": {
          "base_uri": "https://localhost:8080/"
        },
        "outputId": "a1d699bb-f818-4dce-dd8f-1d21ef6b5241"
      },
      "source": [
        "test=test[test.id.isin(test_labels.id)].reset_index()\n",
        "test['clean_comment'] = clean_comment(test['comment_text'])\n",
        "test"
      ],
      "execution_count": null,
      "outputs": [
        {
          "output_type": "execute_result",
          "data": {
            "text/html": [
              "<div>\n",
              "<style scoped>\n",
              "    .dataframe tbody tr th:only-of-type {\n",
              "        vertical-align: middle;\n",
              "    }\n",
              "\n",
              "    .dataframe tbody tr th {\n",
              "        vertical-align: top;\n",
              "    }\n",
              "\n",
              "    .dataframe thead th {\n",
              "        text-align: right;\n",
              "    }\n",
              "</style>\n",
              "<table border=\"1\" class=\"dataframe\">\n",
              "  <thead>\n",
              "    <tr style=\"text-align: right;\">\n",
              "      <th></th>\n",
              "      <th>index</th>\n",
              "      <th>id</th>\n",
              "      <th>comment_text</th>\n",
              "      <th>clean_comment</th>\n",
              "    </tr>\n",
              "  </thead>\n",
              "  <tbody>\n",
              "    <tr>\n",
              "      <th>0</th>\n",
              "      <td>5</td>\n",
              "      <td>0001ea8717f6de06</td>\n",
              "      <td>Thank you for understanding. I think very high...</td>\n",
              "      <td>thank you for understanding i think very highl...</td>\n",
              "    </tr>\n",
              "    <tr>\n",
              "      <th>1</th>\n",
              "      <td>7</td>\n",
              "      <td>000247e83dcc1211</td>\n",
              "      <td>:Dear god this site is horrible.</td>\n",
              "      <td>dear god this site is horrible</td>\n",
              "    </tr>\n",
              "    <tr>\n",
              "      <th>2</th>\n",
              "      <td>11</td>\n",
              "      <td>0002f87b16116a7f</td>\n",
              "      <td>\"::: Somebody will invariably try to add Relig...</td>\n",
              "      <td>somebody will invariably try to add religion r...</td>\n",
              "    </tr>\n",
              "    <tr>\n",
              "      <th>3</th>\n",
              "      <td>13</td>\n",
              "      <td>0003e1cccfd5a40a</td>\n",
              "      <td>\" \\n\\n It says it right there that it IS a typ...</td>\n",
              "      <td>it says it right there that it is a type the t...</td>\n",
              "    </tr>\n",
              "    <tr>\n",
              "      <th>4</th>\n",
              "      <td>14</td>\n",
              "      <td>00059ace3e3e9a53</td>\n",
              "      <td>\" \\n\\n == Before adding a new product to the l...</td>\n",
              "      <td>before adding a new product to the list make s...</td>\n",
              "    </tr>\n",
              "    <tr>\n",
              "      <th>...</th>\n",
              "      <td>...</td>\n",
              "      <td>...</td>\n",
              "      <td>...</td>\n",
              "      <td>...</td>\n",
              "    </tr>\n",
              "    <tr>\n",
              "      <th>63973</th>\n",
              "      <td>153150</td>\n",
              "      <td>fff8f64043129fa2</td>\n",
              "      <td>:Jerome, I see you never got around to this…! ...</td>\n",
              "      <td>jerome i see you never got around to this i am...</td>\n",
              "    </tr>\n",
              "    <tr>\n",
              "      <th>63974</th>\n",
              "      <td>153151</td>\n",
              "      <td>fff9d70fe0722906</td>\n",
              "      <td>==Lucky bastard== \\n http://wikimediafoundatio...</td>\n",
              "      <td>lucky bastard http wikimediafoundation org wik...</td>\n",
              "    </tr>\n",
              "    <tr>\n",
              "      <th>63975</th>\n",
              "      <td>153154</td>\n",
              "      <td>fffa8a11c4378854</td>\n",
              "      <td>==shame on you all!!!== \\n\\n You want to speak...</td>\n",
              "      <td>shame on you all you want to speak about gays ...</td>\n",
              "    </tr>\n",
              "    <tr>\n",
              "      <th>63976</th>\n",
              "      <td>153155</td>\n",
              "      <td>fffac2a094c8e0e2</td>\n",
              "      <td>MEL GIBSON IS A NAZI BITCH WHO MAKES SHITTY MO...</td>\n",
              "      <td>mel gibson is a nazi bitch who makes shitty mo...</td>\n",
              "    </tr>\n",
              "    <tr>\n",
              "      <th>63977</th>\n",
              "      <td>153156</td>\n",
              "      <td>fffb5451268fb5ba</td>\n",
              "      <td>\" \\n\\n == Unicorn lair discovery == \\n\\n Suppo...</td>\n",
              "      <td>unicorn lair discovery supposedly a unicorn la...</td>\n",
              "    </tr>\n",
              "  </tbody>\n",
              "</table>\n",
              "<p>63978 rows × 4 columns</p>\n",
              "</div>"
            ],
            "text/plain": [
              "        index  ...                                      clean_comment\n",
              "0           5  ...  thank you for understanding i think very highl...\n",
              "1           7  ...                     dear god this site is horrible\n",
              "2          11  ...  somebody will invariably try to add religion r...\n",
              "3          13  ...  it says it right there that it is a type the t...\n",
              "4          14  ...  before adding a new product to the list make s...\n",
              "...       ...  ...                                                ...\n",
              "63973  153150  ...  jerome i see you never got around to this i am...\n",
              "63974  153151  ...  lucky bastard http wikimediafoundation org wik...\n",
              "63975  153154  ...  shame on you all you want to speak about gays ...\n",
              "63976  153155  ...  mel gibson is a nazi bitch who makes shitty mo...\n",
              "63977  153156  ...  unicorn lair discovery supposedly a unicorn la...\n",
              "\n",
              "[63978 rows x 4 columns]"
            ]
          },
          "metadata": {
            "tags": []
          },
          "execution_count": 26
        }
      ]
    },
    {
      "cell_type": "markdown",
      "metadata": {
        "id": "5FD86VEsP3LH"
      },
      "source": [
        "Vengono rimosse le stop words."
      ]
    },
    {
      "cell_type": "code",
      "metadata": {
        "id": "deMjslG-iEbR",
        "colab": {
          "base_uri": "https://localhost:8080/"
        },
        "outputId": "a9aea9b9-59f0-4ec0-98f1-98580e4a0148"
      },
      "source": [
        "stop=set(stopwords.words('english'))\n",
        "test['clean_comment_wo_stopwords']=test['clean_comment'].apply(lambda x: ' '.join([word for word in x.split() if word not in stop]))\n",
        "test['clean_comment_wo_stopwords']"
      ],
      "execution_count": null,
      "outputs": [
        {
          "output_type": "execute_result",
          "data": {
            "text/plain": [
              "0        thank understanding think highly would revert ...\n",
              "1                                   dear god site horrible\n",
              "2        somebody invariably try add religion really me...\n",
              "3        says right type type institution needed case t...\n",
              "4        adding new product list make sure relevant add...\n",
              "                               ...                        \n",
              "63973    jerome see never got around surprised looked e...\n",
              "63974    lucky bastard http wikimediafoundation org wik...\n",
              "63975                      shame want speak gays romanians\n",
              "63976    mel gibson nazi bitch makes shitty movies much...\n",
              "63977    unicorn lair discovery supposedly unicorn lair...\n",
              "Name: clean_comment_wo_stopwords, Length: 63978, dtype: object"
            ]
          },
          "metadata": {
            "tags": []
          },
          "execution_count": 27
        }
      ]
    },
    {
      "cell_type": "markdown",
      "metadata": {
        "id": "5YDNQhJfzeqi"
      },
      "source": [
        "##Tokenization"
      ]
    },
    {
      "cell_type": "markdown",
      "metadata": {
        "id": "3I4U_r7eP5fs"
      },
      "source": [
        "Anche qui viene effettuata la tokenizzazione nei due casi di tecniche differenti."
      ]
    },
    {
      "cell_type": "markdown",
      "metadata": {
        "id": "wPgygYgvUGsd"
      },
      "source": [
        "##Se subsampling"
      ]
    },
    {
      "cell_type": "code",
      "metadata": {
        "id": "uncvUOUOGj8G",
        "colab": {
          "base_uri": "https://localhost:8080/"
        },
        "outputId": "de688973-3031-435f-f73d-7126e9ac530b"
      },
      "source": [
        "list_sentences_test = test['clean_comment_wo_stopwords'].fillna('null').values\n",
        "list_tokenized_test = tokenizer_subsampling.texts_to_sequences(list_sentences_test)\n",
        "average = sum(len(word) for word in list_tokenized_test) / len(list_tokenized_test)\n",
        "print(average)\n",
        "x_test_subsampling= sequence.pad_sequences(list_tokenized_test, maxlen=150)\n"
      ],
      "execution_count": null,
      "outputs": [
        {
          "output_type": "stream",
          "text": [
            "30.928522304542188\n"
          ],
          "name": "stdout"
        }
      ]
    },
    {
      "cell_type": "markdown",
      "metadata": {
        "id": "UqsDJDt0Uj-0"
      },
      "source": [
        "## Se data augmentation"
      ]
    },
    {
      "cell_type": "code",
      "metadata": {
        "id": "y4NRwMrzUhCb",
        "colab": {
          "base_uri": "https://localhost:8080/"
        },
        "outputId": "ae39f6d0-3bbc-42cf-bc90-9ddf39df6e57"
      },
      "source": [
        "list_sentences_test = test['clean_comment_wo_stopwords'].fillna('null').values\n",
        "list_tokenized_test = tokenizer_data_augmentation.texts_to_sequences(list_sentences_test)\n",
        "average = sum(len(word) for word in list_tokenized_test) / len(list_tokenized_test)\n",
        "print(average)\n",
        "x_test_data_augmentation= sequence.pad_sequences(list_tokenized_test, maxlen=150)\n"
      ],
      "execution_count": null,
      "outputs": [
        {
          "output_type": "stream",
          "text": [
            "31.297836756385006\n"
          ],
          "name": "stdout"
        }
      ]
    },
    {
      "cell_type": "markdown",
      "metadata": {
        "id": "Bz5VtT6IS5h6"
      },
      "source": [
        "#MODELLI Multi-label"
      ]
    },
    {
      "cell_type": "code",
      "metadata": {
        "id": "A-WeYQT0S_Pi"
      },
      "source": [
        "y_test=test_labels[test_labels.columns[1:]].values"
      ],
      "execution_count": null,
      "outputs": []
    },
    {
      "cell_type": "markdown",
      "metadata": {
        "id": "4Xa4d8s7Sgx7"
      },
      "source": [
        "## y subsambling"
      ]
    },
    {
      "cell_type": "code",
      "metadata": {
        "id": "c9_2FXAzSmyX"
      },
      "source": [
        "y_train_subsampling=sub_train[sub_train.columns[2:8]].values"
      ],
      "execution_count": null,
      "outputs": []
    },
    {
      "cell_type": "markdown",
      "metadata": {
        "id": "87flVZhAShbz"
      },
      "source": [
        "##y data augmentation"
      ]
    },
    {
      "cell_type": "code",
      "metadata": {
        "id": "JyURa0EXSo_G"
      },
      "source": [
        "y_train_data_augmentation=train_augmented[train_augmented.columns[2:8]].values"
      ],
      "execution_count": null,
      "outputs": []
    },
    {
      "cell_type": "markdown",
      "metadata": {
        "id": "o2QU4iEhS2TC"
      },
      "source": [
        "##LSTM"
      ]
    },
    {
      "cell_type": "markdown",
      "metadata": {
        "id": "txuFxo1_QAoN"
      },
      "source": [
        "Definizione del modello LSTM "
      ]
    },
    {
      "cell_type": "markdown",
      "metadata": {
        "id": "O65SIiwRU3Is"
      },
      "source": [
        "###Se subsampling"
      ]
    },
    {
      "cell_type": "code",
      "metadata": {
        "id": "iAM1PYtTWENN",
        "colab": {
          "base_uri": "https://localhost:8080/"
        },
        "outputId": "2c05717e-81ec-4ab6-9bfd-55174d8cbfba"
      },
      "source": [
        "model_LSTM = Sequential()\n",
        "model_LSTM.add(Embedding(input_dim=60000, output_dim=128, input_length=150))\n",
        "model_LSTM.add(Bidirectional(LSTM(128,dropout=0.2)))\n",
        "model_LSTM.add(Dense(6, activation=\"sigmoid\"))\n",
        "model_LSTM.summary()"
      ],
      "execution_count": null,
      "outputs": [
        {
          "output_type": "stream",
          "text": [
            "Model: \"sequential_16\"\n",
            "_________________________________________________________________\n",
            "Layer (type)                 Output Shape              Param #   \n",
            "=================================================================\n",
            "embedding_16 (Embedding)     (None, 150, 128)          7680000   \n",
            "_________________________________________________________________\n",
            "bidirectional_11 (Bidirectio (None, 256)               263168    \n",
            "_________________________________________________________________\n",
            "dense_22 (Dense)             (None, 6)                 1542      \n",
            "=================================================================\n",
            "Total params: 7,944,710\n",
            "Trainable params: 7,944,710\n",
            "Non-trainable params: 0\n",
            "_________________________________________________________________\n"
          ],
          "name": "stdout"
        }
      ]
    },
    {
      "cell_type": "code",
      "metadata": {
        "id": "ZNu8IRYsL96Z",
        "colab": {
          "base_uri": "https://localhost:8080/"
        },
        "outputId": "7a076a9a-0de8-4af8-ce97-b8e22fe0df1f"
      },
      "source": [
        "optimizer=Adamax(learning_rate=1e-3)\n",
        "model_LSTM.compile(loss=\"binary_crossentropy\",optimizer= optimizer, metrics=['Precision', 'Recall', 'AUC'])\n",
        "num_epochs = 20\n",
        "early_stopping = EarlyStopping(monitor='val_loss', patience=3)\n",
        "history1 = model_LSTM.fit(x_train_subsampling, y_train_subsampling, epochs=num_epochs, batch_size=128, validation_split=0.2, verbose=1, callbacks=[early_stopping], )"
      ],
      "execution_count": null,
      "outputs": [
        {
          "output_type": "stream",
          "text": [
            "Epoch 1/20\n",
            "203/203 [==============================] - 11s 41ms/step - loss: 0.4306 - precision: 0.5115 - recall: 0.2702 - auc: 0.7647 - val_loss: 0.2907 - val_precision: 0.7278 - val_recall: 0.5782 - val_auc: 0.9059\n",
            "Epoch 2/20\n",
            "203/203 [==============================] - 7s 36ms/step - loss: 0.2652 - precision: 0.7912 - recall: 0.5673 - auc: 0.9177 - val_loss: 0.2325 - val_precision: 0.7895 - val_recall: 0.6723 - val_auc: 0.9365\n",
            "Epoch 3/20\n",
            "203/203 [==============================] - 7s 36ms/step - loss: 0.2186 - precision: 0.8168 - recall: 0.6750 - auc: 0.9440 - val_loss: 0.2150 - val_precision: 0.8466 - val_recall: 0.6625 - val_auc: 0.9452\n",
            "Epoch 4/20\n",
            "203/203 [==============================] - 7s 36ms/step - loss: 0.2009 - precision: 0.8407 - recall: 0.7069 - auc: 0.9530 - val_loss: 0.2041 - val_precision: 0.8474 - val_recall: 0.6917 - val_auc: 0.9503\n",
            "Epoch 5/20\n",
            "203/203 [==============================] - 7s 36ms/step - loss: 0.1888 - precision: 0.8510 - recall: 0.7267 - auc: 0.9580 - val_loss: 0.1986 - val_precision: 0.8531 - val_recall: 0.6960 - val_auc: 0.9532\n",
            "Epoch 6/20\n",
            "203/203 [==============================] - 7s 36ms/step - loss: 0.1758 - precision: 0.8597 - recall: 0.7427 - auc: 0.9637 - val_loss: 0.1928 - val_precision: 0.8370 - val_recall: 0.7295 - val_auc: 0.9559\n",
            "Epoch 7/20\n",
            "203/203 [==============================] - 7s 36ms/step - loss: 0.1715 - precision: 0.8662 - recall: 0.7529 - auc: 0.9660 - val_loss: 0.1917 - val_precision: 0.8466 - val_recall: 0.7177 - val_auc: 0.9565\n",
            "Epoch 8/20\n",
            "203/203 [==============================] - 7s 36ms/step - loss: 0.1655 - precision: 0.8663 - recall: 0.7598 - auc: 0.9682 - val_loss: 0.1917 - val_precision: 0.8478 - val_recall: 0.7203 - val_auc: 0.9566\n",
            "Epoch 9/20\n",
            "203/203 [==============================] - 7s 36ms/step - loss: 0.1617 - precision: 0.8701 - recall: 0.7673 - auc: 0.9695 - val_loss: 0.1897 - val_precision: 0.8419 - val_recall: 0.7297 - val_auc: 0.9574\n",
            "Epoch 10/20\n",
            "203/203 [==============================] - 7s 36ms/step - loss: 0.1556 - precision: 0.8724 - recall: 0.7781 - auc: 0.9721 - val_loss: 0.1901 - val_precision: 0.8164 - val_recall: 0.7589 - val_auc: 0.9582\n",
            "Epoch 11/20\n",
            "203/203 [==============================] - 7s 36ms/step - loss: 0.1531 - precision: 0.8711 - recall: 0.7787 - auc: 0.9731 - val_loss: 0.1929 - val_precision: 0.8520 - val_recall: 0.7189 - val_auc: 0.9566\n",
            "Epoch 12/20\n",
            "203/203 [==============================] - 7s 36ms/step - loss: 0.1499 - precision: 0.8767 - recall: 0.7885 - auc: 0.9748 - val_loss: 0.1962 - val_precision: 0.8527 - val_recall: 0.7178 - val_auc: 0.9541\n"
          ],
          "name": "stdout"
        }
      ]
    },
    {
      "cell_type": "code",
      "metadata": {
        "id": "mVoHR3E7PDp8",
        "colab": {
          "base_uri": "https://localhost:8080/",
          "height": 1000
        },
        "outputId": "a1191160-7c12-457c-9c51-0f01ad48a1d4"
      },
      "source": [
        "def plot_graphs(history, string):\n",
        "  plt.plot(history.history[string])\n",
        "  plt.plot(history.history['val_'+string])\n",
        "  plt.xlabel(\"Epochs\")\n",
        "  plt.ylabel(string)\n",
        "  plt.legend([string, 'val_'+string])\n",
        "  plt.show()\n",
        "\n",
        "plot_graphs(history1, \"auc\") \n",
        "plot_graphs(history1, \"precision\") \n",
        "plot_graphs(history1, \"recall\") \n",
        "plot_graphs(history1, \"loss\")\n"
      ],
      "execution_count": null,
      "outputs": [
        {
          "output_type": "display_data",
          "data": {
            "image/png": "[encoded data removed]",
            "text/plain": [
              "<Figure size 432x288 with 1 Axes>"
            ]
          },
          "metadata": {
            "tags": [],
            "needs_background": "light"
          }
        },
        {
          "output_type": "display_data",
          "data": {
            "image/png": "[encoded data removed]",
            "text/plain": [
              "<Figure size 432x288 with 1 Axes>"
            ]
          },
          "metadata": {
            "tags": [],
            "needs_background": "light"
          }
        },
        {
          "output_type": "display_data",
          "data": {
            "image/png": "[encoded data removed]",
            "text/plain": [
              "<Figure size 432x288 with 1 Axes>"
            ]
          },
          "metadata": {
            "tags": [],
            "needs_background": "light"
          }
        },
        {
          "output_type": "display_data",
          "data": {
            "image/png": "[encoded data removed]",
            "text/plain": [
              "<Figure size 432x288 with 1 Axes>"
            ]
          },
          "metadata": {
            "tags": [],
            "needs_background": "light"
          }
        }
      ]
    },
    {
      "cell_type": "markdown",
      "metadata": {
        "id": "faMv3LWsPXxd"
      },
      "source": [
        "####Valutazione con il test"
      ]
    },
    {
      "cell_type": "code",
      "metadata": {
        "id": "Kr3_0p_5PawL",
        "colab": {
          "base_uri": "https://localhost:8080/"
        },
        "outputId": "60259eca-94bc-40c1-c5af-135d0cb6d3aa"
      },
      "source": [
        "y_pred = (model_LSTM.predict(x_test_subsampling) > 0.5).astype(\"int32\")\n",
        "print(classification_report(y_test, y_pred, target_names=test_labels.columns[1:]))"
      ],
      "execution_count": null,
      "outputs": [
        {
          "output_type": "stream",
          "text": [
            "               precision    recall  f1-score   support\n",
            "\n",
            "        toxic       0.39      0.93      0.55      6090\n",
            " severe_toxic       0.44      0.26      0.32       367\n",
            "      obscene       0.64      0.74      0.68      3691\n",
            "       threat       0.00      0.00      0.00       211\n",
            "       insult       0.59      0.60      0.60      3427\n",
            "identity_hate       0.00      0.00      0.00       712\n",
            "\n",
            "    micro avg       0.47      0.73      0.57     14498\n",
            "    macro avg       0.34      0.42      0.36     14498\n",
            " weighted avg       0.48      0.73      0.55     14498\n",
            "  samples avg       0.08      0.07      0.07     14498\n",
            "\n"
          ],
          "name": "stdout"
        },
        {
          "output_type": "stream",
          "text": [
            "/usr/local/lib/python3.6/dist-packages/sklearn/metrics/_classification.py:1272: UndefinedMetricWarning: Precision and F-score are ill-defined and being set to 0.0 in labels with no predicted samples. Use `zero_division` parameter to control this behavior.\n",
            "  _warn_prf(average, modifier, msg_start, len(result))\n",
            "/usr/local/lib/python3.6/dist-packages/sklearn/metrics/_classification.py:1272: UndefinedMetricWarning: Precision and F-score are ill-defined and being set to 0.0 in samples with no predicted labels. Use `zero_division` parameter to control this behavior.\n",
            "  _warn_prf(average, modifier, msg_start, len(result))\n",
            "/usr/local/lib/python3.6/dist-packages/sklearn/metrics/_classification.py:1272: UndefinedMetricWarning: Recall and F-score are ill-defined and being set to 0.0 in samples with no true labels. Use `zero_division` parameter to control this behavior.\n",
            "  _warn_prf(average, modifier, msg_start, len(result))\n"
          ],
          "name": "stderr"
        }
      ]
    },
    {
      "cell_type": "markdown",
      "metadata": {
        "id": "S8j4Q3-9WkSP"
      },
      "source": [
        "### Se data augmentation"
      ]
    },
    {
      "cell_type": "code",
      "metadata": {
        "id": "4qr5_TmFWnGu",
        "colab": {
          "base_uri": "https://localhost:8080/"
        },
        "outputId": "4f60b063-30ff-4b68-9da3-74ea5326e58d"
      },
      "source": [
        "model_LSTM = Sequential()\n",
        "model_LSTM.add(Embedding(input_dim=60000, output_dim=128, input_length=150))\n",
        "model_LSTM.add(Bidirectional(LSTM(128, dropout=0.2)))\n",
        "model_LSTM.add(Dense(6, activation=\"sigmoid\"))\n",
        "model_LSTM.summary()"
      ],
      "execution_count": null,
      "outputs": [
        {
          "output_type": "stream",
          "text": [
            "Model: \"sequential_7\"\n",
            "_________________________________________________________________\n",
            "Layer (type)                 Output Shape              Param #   \n",
            "=================================================================\n",
            "embedding_7 (Embedding)      (None, 150, 128)          7680000   \n",
            "_________________________________________________________________\n",
            "bidirectional_5 (Bidirection (None, 256)               263168    \n",
            "_________________________________________________________________\n",
            "dense_9 (Dense)              (None, 6)                 1542      \n",
            "=================================================================\n",
            "Total params: 7,944,710\n",
            "Trainable params: 7,944,710\n",
            "Non-trainable params: 0\n",
            "_________________________________________________________________\n"
          ],
          "name": "stdout"
        }
      ]
    },
    {
      "cell_type": "code",
      "metadata": {
        "id": "aX8gbLRqWsRh",
        "colab": {
          "base_uri": "https://localhost:8080/"
        },
        "outputId": "8917df04-a3b9-4f49-92b2-ce1d19eee30e"
      },
      "source": [
        "optimizer=Adamax(learning_rate=1e-4)\n",
        "model_LSTM.compile(loss=\"binary_crossentropy\",optimizer= optimizer, metrics=['Precision', 'Recall', 'AUC'])\n",
        "num_epochs = 20\n",
        "early_stopping = EarlyStopping(monitor='val_loss', patience=3)\n",
        "history2 = model_LSTM.fit(x_train_data_augmentation, y_train_data_augmentation, epochs=num_epochs, batch_size=128, validation_split=0.2, verbose=1, callbacks=[early_stopping], )"
      ],
      "execution_count": null,
      "outputs": [
        {
          "output_type": "stream",
          "text": [
            "Epoch 1/20\n",
            "1578/1578 [==============================] - 59s 35ms/step - loss: 0.4897 - precision: 0.5176 - recall: 0.0635 - auc: 0.6928 - val_loss: 0.3350 - val_precision: 0.7968 - val_recall: 0.4028 - val_auc: 0.8876\n",
            "Epoch 2/20\n",
            "1578/1578 [==============================] - 55s 35ms/step - loss: 0.3130 - precision: 0.7871 - recall: 0.5189 - auc: 0.8995 - val_loss: 0.2603 - val_precision: 0.7919 - val_recall: 0.6442 - val_auc: 0.9295\n",
            "Epoch 3/20\n",
            "1578/1578 [==============================] - 55s 35ms/step - loss: 0.2550 - precision: 0.8134 - recall: 0.6341 - auc: 0.9314 - val_loss: 0.2361 - val_precision: 0.8105 - val_recall: 0.6796 - val_auc: 0.9421\n",
            "Epoch 4/20\n",
            "1578/1578 [==============================] - 55s 35ms/step - loss: 0.2316 - precision: 0.8389 - recall: 0.6630 - auc: 0.9438 - val_loss: 0.2217 - val_precision: 0.8574 - val_recall: 0.6673 - val_auc: 0.9488\n",
            "Epoch 5/20\n",
            "1578/1578 [==============================] - 55s 35ms/step - loss: 0.2207 - precision: 0.8510 - recall: 0.6761 - auc: 0.9492 - val_loss: 0.2131 - val_precision: 0.8560 - val_recall: 0.6853 - val_auc: 0.9528\n",
            "Epoch 6/20\n",
            "1578/1578 [==============================] - 55s 35ms/step - loss: 0.2122 - precision: 0.8577 - recall: 0.6872 - auc: 0.9532 - val_loss: 0.2067 - val_precision: 0.8644 - val_recall: 0.6910 - val_auc: 0.9557\n",
            "Epoch 7/20\n",
            "1578/1578 [==============================] - 55s 35ms/step - loss: 0.2065 - precision: 0.8596 - recall: 0.6946 - auc: 0.9558 - val_loss: 0.2018 - val_precision: 0.8630 - val_recall: 0.7019 - val_auc: 0.9577\n",
            "Epoch 8/20\n",
            "1578/1578 [==============================] - 55s 35ms/step - loss: 0.2012 - precision: 0.8634 - recall: 0.7016 - auc: 0.9583 - val_loss: 0.1975 - val_precision: 0.8651 - val_recall: 0.7068 - val_auc: 0.9598\n",
            "Epoch 9/20\n",
            "1578/1578 [==============================] - 55s 35ms/step - loss: 0.1979 - precision: 0.8663 - recall: 0.7065 - auc: 0.9599 - val_loss: 0.1942 - val_precision: 0.8625 - val_recall: 0.7145 - val_auc: 0.9613\n",
            "Epoch 10/20\n",
            "1578/1578 [==============================] - 55s 35ms/step - loss: 0.1918 - precision: 0.8687 - recall: 0.7125 - auc: 0.9624 - val_loss: 0.1918 - val_precision: 0.8548 - val_recall: 0.7254 - val_auc: 0.9628\n",
            "Epoch 11/20\n",
            "1578/1578 [==============================] - 55s 35ms/step - loss: 0.1902 - precision: 0.8697 - recall: 0.7173 - auc: 0.9637 - val_loss: 0.1869 - val_precision: 0.8781 - val_recall: 0.7113 - val_auc: 0.9646\n",
            "Epoch 12/20\n",
            "1578/1578 [==============================] - 55s 35ms/step - loss: 0.1836 - precision: 0.8706 - recall: 0.7240 - auc: 0.9662 - val_loss: 0.1827 - val_precision: 0.8769 - val_recall: 0.7289 - val_auc: 0.9667\n",
            "Epoch 13/20\n",
            "1578/1578 [==============================] - 55s 35ms/step - loss: 0.1782 - precision: 0.8732 - recall: 0.7382 - auc: 0.9684 - val_loss: 0.1768 - val_precision: 0.8666 - val_recall: 0.7522 - val_auc: 0.9688\n",
            "Epoch 14/20\n",
            "1578/1578 [==============================] - 55s 35ms/step - loss: 0.1737 - precision: 0.8687 - recall: 0.7558 - auc: 0.9703 - val_loss: 0.1715 - val_precision: 0.8749 - val_recall: 0.7561 - val_auc: 0.9710\n",
            "Epoch 15/20\n",
            "1578/1578 [==============================] - 55s 35ms/step - loss: 0.1694 - precision: 0.8680 - recall: 0.7693 - auc: 0.9720 - val_loss: 0.1677 - val_precision: 0.8601 - val_recall: 0.7831 - val_auc: 0.9724\n",
            "Epoch 16/20\n",
            "1578/1578 [==============================] - 55s 35ms/step - loss: 0.1643 - precision: 0.8702 - recall: 0.7798 - auc: 0.9737 - val_loss: 0.1636 - val_precision: 0.8662 - val_recall: 0.7891 - val_auc: 0.9739\n",
            "Epoch 17/20\n",
            "1578/1578 [==============================] - 55s 35ms/step - loss: 0.1604 - precision: 0.8731 - recall: 0.7883 - auc: 0.9753 - val_loss: 0.1597 - val_precision: 0.8773 - val_recall: 0.7862 - val_auc: 0.9750\n",
            "Epoch 18/20\n",
            "1578/1578 [==============================] - 55s 35ms/step - loss: 0.1560 - precision: 0.8763 - recall: 0.7959 - auc: 0.9766 - val_loss: 0.1560 - val_precision: 0.8811 - val_recall: 0.7927 - val_auc: 0.9764\n",
            "Epoch 19/20\n",
            "1578/1578 [==============================] - 55s 35ms/step - loss: 0.1510 - precision: 0.8775 - recall: 0.8044 - auc: 0.9782 - val_loss: 0.1522 - val_precision: 0.8797 - val_recall: 0.8031 - val_auc: 0.9774\n",
            "Epoch 20/20\n",
            "1578/1578 [==============================] - 55s 35ms/step - loss: 0.1481 - precision: 0.8804 - recall: 0.8129 - auc: 0.9791 - val_loss: 0.1482 - val_precision: 0.8786 - val_recall: 0.8151 - val_auc: 0.9788\n"
          ],
          "name": "stdout"
        }
      ]
    },
    {
      "cell_type": "code",
      "metadata": {
        "id": "qRn-p0NJWzbj",
        "colab": {
          "base_uri": "https://localhost:8080/",
          "height": 1000
        },
        "outputId": "9d4f5018-31a3-45a8-a4bf-15a6d0c6c1e3"
      },
      "source": [
        "#plot_graphs(history, \"accuracy\") \n",
        "plot_graphs(history2, \"auc\") \n",
        "plot_graphs(history2, \"precision\") \n",
        "plot_graphs(history2, \"recall\") \n",
        "plot_graphs(history2, \"loss\")"
      ],
      "execution_count": null,
      "outputs": [
        {
          "output_type": "display_data",
          "data": {
            "image/png": "[encoded data removed]",
            "text/plain": [
              "<Figure size 432x288 with 1 Axes>"
            ]
          },
          "metadata": {
            "tags": [],
            "needs_background": "light"
          }
        },
        {
          "output_type": "display_data",
          "data": {
            "image/png": "[encoded data removed]",
            "text/plain": [
              "<Figure size 432x288 with 1 Axes>"
            ]
          },
          "metadata": {
            "tags": [],
            "needs_background": "light"
          }
        },
        {
          "output_type": "display_data",
          "data": {
            "image/png": "[encoded data removed]",
            "text/plain": [
              "<Figure size 432x288 with 1 Axes>"
            ]
          },
          "metadata": {
            "tags": [],
            "needs_background": "light"
          }
        },
        {
          "output_type": "display_data",
          "data": {
            "image/png": "[encoded data removed]",
            "text/plain": [
              "<Figure size 432x288 with 1 Axes>"
            ]
          },
          "metadata": {
            "tags": [],
            "needs_background": "light"
          }
        }
      ]
    },
    {
      "cell_type": "markdown",
      "metadata": {
        "id": "e3upWLPRW11k"
      },
      "source": [
        "####Valutazione con il test"
      ]
    },
    {
      "cell_type": "code",
      "metadata": {
        "id": "eFRauxewW7G-",
        "colab": {
          "base_uri": "https://localhost:8080/"
        },
        "outputId": "8637973b-6913-46df-ebfc-64913b6cfa52"
      },
      "source": [
        "y_pred = (model_LSTM.predict(x_test_data_augmentation) > 0.5).astype(\"int32\")\n",
        "print(classification_report(y_test, y_pred, target_names=test_labels.columns[1:]))"
      ],
      "execution_count": null,
      "outputs": [
        {
          "output_type": "stream",
          "text": [
            "               precision    recall  f1-score   support\n",
            "\n",
            "        toxic       0.42      0.92      0.57      6090\n",
            " severe_toxic       0.27      0.68      0.39       367\n",
            "      obscene       0.63      0.77      0.69      3691\n",
            "       threat       0.27      0.67      0.38       211\n",
            "       insult       0.55      0.68      0.61      3427\n",
            "identity_hate       0.59      0.24      0.34       712\n",
            "\n",
            "    micro avg       0.47      0.78      0.59     14498\n",
            "    macro avg       0.45      0.66      0.50     14498\n",
            " weighted avg       0.50      0.78      0.59     14498\n",
            "  samples avg       0.08      0.08      0.07     14498\n",
            "\n"
          ],
          "name": "stdout"
        },
        {
          "output_type": "stream",
          "text": [
            "/usr/local/lib/python3.6/dist-packages/sklearn/metrics/_classification.py:1272: UndefinedMetricWarning: Precision and F-score are ill-defined and being set to 0.0 in samples with no predicted labels. Use `zero_division` parameter to control this behavior.\n",
            "  _warn_prf(average, modifier, msg_start, len(result))\n",
            "/usr/local/lib/python3.6/dist-packages/sklearn/metrics/_classification.py:1272: UndefinedMetricWarning: Recall and F-score are ill-defined and being set to 0.0 in samples with no true labels. Use `zero_division` parameter to control this behavior.\n",
            "  _warn_prf(average, modifier, msg_start, len(result))\n"
          ],
          "name": "stderr"
        }
      ]
    },
    {
      "cell_type": "markdown",
      "metadata": {
        "id": "Cs3y8ADqtxap"
      },
      "source": [
        "## CNN"
      ]
    },
    {
      "cell_type": "markdown",
      "metadata": {
        "id": "3eAoD7fUza8R"
      },
      "source": [
        "Definizione del modello CNN"
      ]
    },
    {
      "cell_type": "markdown",
      "metadata": {
        "id": "eRcB_LIcfLg_"
      },
      "source": [
        "###Se subsampling"
      ]
    },
    {
      "cell_type": "code",
      "metadata": {
        "id": "QK8aN2Dut9Mh",
        "colab": {
          "base_uri": "https://localhost:8080/"
        },
        "outputId": "9a385579-a08a-485b-b06f-07e2b06b1a16"
      },
      "source": [
        "model_cnn= Sequential()\n",
        "model_cnn.add(Embedding(input_dim=60000, output_dim=124, input_length=150))\n",
        "model_cnn.add(Conv1D(64, kernel_size=(8), activation='relu'))\n",
        "model_cnn.add(MaxPooling1D(pool_size=(4)))\n",
        "model_cnn.add(Conv1D(32, kernel_size=(8), activation='relu'))\n",
        "model_cnn.add(MaxPooling1D(pool_size=(4)))\n",
        "model_cnn.add(Flatten())\n",
        "model_cnn.add(Dense(16, activation=\"relu\"))\n",
        "model_cnn.add(Dropout(0.2))\n",
        "model_cnn.add(Dense(6, activation=\"sigmoid\"))\n",
        "\n",
        "model_cnn.summary()\n"
      ],
      "execution_count": null,
      "outputs": [
        {
          "output_type": "stream",
          "text": [
            "Model: \"sequential_15\"\n",
            "_________________________________________________________________\n",
            "Layer (type)                 Output Shape              Param #   \n",
            "=================================================================\n",
            "embedding_15 (Embedding)     (None, 150, 124)          7440000   \n",
            "_________________________________________________________________\n",
            "conv1d_8 (Conv1D)            (None, 143, 64)           63552     \n",
            "_________________________________________________________________\n",
            "max_pooling1d_8 (MaxPooling1 (None, 35, 64)            0         \n",
            "_________________________________________________________________\n",
            "conv1d_9 (Conv1D)            (None, 28, 32)            16416     \n",
            "_________________________________________________________________\n",
            "max_pooling1d_9 (MaxPooling1 (None, 7, 32)             0         \n",
            "_________________________________________________________________\n",
            "flatten_4 (Flatten)          (None, 224)               0         \n",
            "_________________________________________________________________\n",
            "dense_20 (Dense)             (None, 16)                3600      \n",
            "_________________________________________________________________\n",
            "dropout_7 (Dropout)          (None, 16)                0         \n",
            "_________________________________________________________________\n",
            "dense_21 (Dense)             (None, 6)                 102       \n",
            "=================================================================\n",
            "Total params: 7,523,670\n",
            "Trainable params: 7,523,670\n",
            "Non-trainable params: 0\n",
            "_________________________________________________________________\n"
          ],
          "name": "stdout"
        }
      ]
    },
    {
      "cell_type": "code",
      "metadata": {
        "id": "WY1b0K9cuFBz",
        "colab": {
          "base_uri": "https://localhost:8080/"
        },
        "outputId": "b87f89d6-42a8-4001-a3fa-b249f2747677"
      },
      "source": [
        "optimizer=Adamax(learning_rate=1e-3)\n",
        "model_cnn.compile(loss=\"binary_crossentropy\",optimizer= optimizer, metrics=['Precision', 'Recall', 'AUC'])\n",
        "num_epochs = 20\n",
        "early_stopping = EarlyStopping(monitor='val_loss', patience=3)\n",
        "history3 = model_cnn.fit(x_train_subsampling, y_train_subsampling, epochs=num_epochs, batch_size=128, validation_split=0.2, verbose=1, callbacks=[early_stopping], )"
      ],
      "execution_count": null,
      "outputs": [
        {
          "output_type": "stream",
          "text": [
            "Epoch 1/20\n",
            "203/203 [==============================] - 5s 17ms/step - loss: 0.5252 - precision: 0.3285 - recall: 0.3035 - auc: 0.6552 - val_loss: 0.3588 - val_precision: 0.6192 - val_recall: 0.3528 - val_auc: 0.8478\n",
            "Epoch 2/20\n",
            "203/203 [==============================] - 3s 15ms/step - loss: 0.3822 - precision: 0.5404 - recall: 0.3484 - auc: 0.8123 - val_loss: 0.3191 - val_precision: 0.6952 - val_recall: 0.3928 - val_auc: 0.8816\n",
            "Epoch 3/20\n",
            "203/203 [==============================] - 3s 15ms/step - loss: 0.3297 - precision: 0.6397 - recall: 0.4556 - auc: 0.8680 - val_loss: 0.3006 - val_precision: 0.6859 - val_recall: 0.5526 - val_auc: 0.8977\n",
            "Epoch 4/20\n",
            "203/203 [==============================] - 3s 15ms/step - loss: 0.3001 - precision: 0.6920 - recall: 0.5466 - auc: 0.8952 - val_loss: 0.2761 - val_precision: 0.7646 - val_recall: 0.5606 - val_auc: 0.9122\n",
            "Epoch 5/20\n",
            "203/203 [==============================] - 3s 15ms/step - loss: 0.2697 - precision: 0.7396 - recall: 0.5987 - auc: 0.9152 - val_loss: 0.2655 - val_precision: 0.7858 - val_recall: 0.5752 - val_auc: 0.9186\n",
            "Epoch 6/20\n",
            "203/203 [==============================] - 4s 20ms/step - loss: 0.2498 - precision: 0.7623 - recall: 0.6256 - auc: 0.9275 - val_loss: 0.2613 - val_precision: 0.7746 - val_recall: 0.5875 - val_auc: 0.9203\n",
            "Epoch 7/20\n",
            "203/203 [==============================] - 3s 16ms/step - loss: 0.2399 - precision: 0.7756 - recall: 0.6438 - auc: 0.9341 - val_loss: 0.2588 - val_precision: 0.7433 - val_recall: 0.6368 - val_auc: 0.9215\n",
            "Epoch 8/20\n",
            "203/203 [==============================] - 3s 16ms/step - loss: 0.2307 - precision: 0.7784 - recall: 0.6550 - auc: 0.9391 - val_loss: 0.2635 - val_precision: 0.7721 - val_recall: 0.6060 - val_auc: 0.9202\n",
            "Epoch 9/20\n",
            "203/203 [==============================] - 3s 16ms/step - loss: 0.2213 - precision: 0.7874 - recall: 0.6659 - auc: 0.9441 - val_loss: 0.2637 - val_precision: 0.7388 - val_recall: 0.6410 - val_auc: 0.9197\n",
            "Epoch 10/20\n",
            "203/203 [==============================] - 3s 16ms/step - loss: 0.2120 - precision: 0.7961 - recall: 0.6899 - auc: 0.9496 - val_loss: 0.2675 - val_precision: 0.7598 - val_recall: 0.6135 - val_auc: 0.9168\n"
          ],
          "name": "stdout"
        }
      ]
    },
    {
      "cell_type": "code",
      "metadata": {
        "id": "biDWABgwv9MU",
        "colab": {
          "base_uri": "https://localhost:8080/",
          "height": 1000
        },
        "outputId": "10a8fd67-d761-4aea-8c89-eb4b0e1eb142"
      },
      "source": [
        "plot_graphs(history3, \"auc\") \n",
        "plot_graphs(history3, \"precision\") \n",
        "plot_graphs(history3, \"recall\") \n",
        "plot_graphs(history3, \"loss\")"
      ],
      "execution_count": null,
      "outputs": [
        {
          "output_type": "display_data",
          "data": {
            "image/png": "[encoded data removed]",
            "text/plain": [
              "<Figure size 432x288 with 1 Axes>"
            ]
          },
          "metadata": {
            "tags": [],
            "needs_background": "light"
          }
        },
        {
          "output_type": "display_data",
          "data": {
            "image/png": "[encoded data removed]",
            "text/plain": [
              "<Figure size 432x288 with 1 Axes>"
            ]
          },
          "metadata": {
            "tags": [],
            "needs_background": "light"
          }
        },
        {
          "output_type": "display_data",
          "data": {
            "image/png": "[encoded data removed]",
            "text/plain": [
              "<Figure size 432x288 with 1 Axes>"
            ]
          },
          "metadata": {
            "tags": [],
            "needs_background": "light"
          }
        },
        {
          "output_type": "display_data",
          "data": {
            "image/png": "[encoded data removed]",
            "text/plain": [
              "<Figure size 432x288 with 1 Axes>"
            ]
          },
          "metadata": {
            "tags": [],
            "needs_background": "light"
          }
        }
      ]
    },
    {
      "cell_type": "markdown",
      "metadata": {
        "id": "SODvOIZSv99q"
      },
      "source": [
        "#### Valutazione con il test"
      ]
    },
    {
      "cell_type": "code",
      "metadata": {
        "id": "XxTYRCKFwBP7",
        "colab": {
          "base_uri": "https://localhost:8080/"
        },
        "outputId": "f5aae9f6-60ae-44f4-cac3-7c24482cdd2b"
      },
      "source": [
        "y_pred = (model_cnn.predict(x_test_subsampling) > 0.5).astype(\"int32\")\n",
        "print(classification_report(y_test, y_pred, target_names=test_labels.columns[1:]))"
      ],
      "execution_count": null,
      "outputs": [
        {
          "output_type": "stream",
          "text": [
            "               precision    recall  f1-score   support\n",
            "\n",
            "        toxic       0.25      0.83      0.39      6090\n",
            " severe_toxic       0.49      0.17      0.25       367\n",
            "      obscene       0.46      0.53      0.49      3691\n",
            "       threat       0.00      0.00      0.00       211\n",
            "       insult       0.45      0.48      0.47      3427\n",
            "identity_hate       0.00      0.00      0.00       712\n",
            "\n",
            "    micro avg       0.31      0.60      0.41     14498\n",
            "    macro avg       0.28      0.33      0.27     14498\n",
            " weighted avg       0.34      0.60      0.40     14498\n",
            "  samples avg       0.07      0.06      0.06     14498\n",
            "\n"
          ],
          "name": "stdout"
        },
        {
          "output_type": "stream",
          "text": [
            "/usr/local/lib/python3.6/dist-packages/sklearn/metrics/_classification.py:1272: UndefinedMetricWarning: Precision and F-score are ill-defined and being set to 0.0 in labels with no predicted samples. Use `zero_division` parameter to control this behavior.\n",
            "  _warn_prf(average, modifier, msg_start, len(result))\n",
            "/usr/local/lib/python3.6/dist-packages/sklearn/metrics/_classification.py:1272: UndefinedMetricWarning: Precision and F-score are ill-defined and being set to 0.0 in samples with no predicted labels. Use `zero_division` parameter to control this behavior.\n",
            "  _warn_prf(average, modifier, msg_start, len(result))\n",
            "/usr/local/lib/python3.6/dist-packages/sklearn/metrics/_classification.py:1272: UndefinedMetricWarning: Recall and F-score are ill-defined and being set to 0.0 in samples with no true labels. Use `zero_division` parameter to control this behavior.\n",
            "  _warn_prf(average, modifier, msg_start, len(result))\n"
          ],
          "name": "stderr"
        }
      ]
    },
    {
      "cell_type": "markdown",
      "metadata": {
        "id": "AozHnON4fkmX"
      },
      "source": [
        "###Se data augmentation"
      ]
    },
    {
      "cell_type": "code",
      "metadata": {
        "id": "jqD0lhiSflLt",
        "colab": {
          "base_uri": "https://localhost:8080/"
        },
        "outputId": "20d6a920-13b0-4ccb-912d-e893f387e4c7"
      },
      "source": [
        "model_cnn= Sequential()\n",
        "model_cnn.add(Embedding(input_dim=60000, output_dim=124, input_length=150))\n",
        "model_cnn.add(Conv1D(64, kernel_size=(8), activation='relu'))\n",
        "model_cnn.add(MaxPooling1D(pool_size=(4)))\n",
        "model_cnn.add(Conv1D(32, kernel_size=(8), activation='relu'))\n",
        "model_cnn.add(MaxPooling1D(pool_size=(4)))\n",
        "model_cnn.add(Flatten())\n",
        "model_cnn.add(Dense(16, activation=\"relu\"))\n",
        "model_cnn.add(Dropout(0.2))\n",
        "model_cnn.add(Dense(6, activation=\"sigmoid\"))\n",
        "\n",
        "model_cnn.summary()"
      ],
      "execution_count": null,
      "outputs": [
        {
          "output_type": "stream",
          "text": [
            "Model: \"sequential_3\"\n",
            "_________________________________________________________________\n",
            "Layer (type)                 Output Shape              Param #   \n",
            "=================================================================\n",
            "embedding_3 (Embedding)      (None, 150, 124)          7440000   \n",
            "_________________________________________________________________\n",
            "conv1d_2 (Conv1D)            (None, 143, 64)           63552     \n",
            "_________________________________________________________________\n",
            "max_pooling1d_2 (MaxPooling1 (None, 35, 64)            0         \n",
            "_________________________________________________________________\n",
            "conv1d_3 (Conv1D)            (None, 28, 32)            16416     \n",
            "_________________________________________________________________\n",
            "max_pooling1d_3 (MaxPooling1 (None, 7, 32)             0         \n",
            "_________________________________________________________________\n",
            "flatten_1 (Flatten)          (None, 224)               0         \n",
            "_________________________________________________________________\n",
            "dense_4 (Dense)              (None, 16)                3600      \n",
            "_________________________________________________________________\n",
            "dropout_1 (Dropout)          (None, 16)                0         \n",
            "_________________________________________________________________\n",
            "dense_5 (Dense)              (None, 6)                 102       \n",
            "=================================================================\n",
            "Total params: 7,523,670\n",
            "Trainable params: 7,523,670\n",
            "Non-trainable params: 0\n",
            "_________________________________________________________________\n"
          ],
          "name": "stdout"
        }
      ]
    },
    {
      "cell_type": "code",
      "metadata": {
        "id": "mxW_by--fxCj",
        "colab": {
          "base_uri": "https://localhost:8080/"
        },
        "outputId": "b68b6c7b-58c1-48f6-f4af-fcf2830ecb9f"
      },
      "source": [
        "optimizer=Adamax(learning_rate=1e-4)\n",
        "model_cnn.compile(loss=\"binary_crossentropy\",optimizer= optimizer, metrics=['Precision', 'Recall', 'AUC'])\n",
        "num_epochs = 20\n",
        "early_stopping = EarlyStopping(monitor='val_loss', patience=3)\n",
        "history4 = model_cnn.fit(x_train_data_augmentation, y_train_data_augmentation, epochs=num_epochs, batch_size=128, validation_split=0.2, verbose=1, callbacks=[early_stopping], )"
      ],
      "execution_count": null,
      "outputs": [
        {
          "output_type": "stream",
          "text": [
            "Epoch 1/20\n",
            "1578/1578 [==============================] - 22s 13ms/step - loss: 0.5488 - precision: 0.3327 - recall: 0.1976 - auc: 0.6148 - val_loss: 0.4416 - val_precision: 0.6077 - val_recall: 0.1313 - val_auc: 0.7629\n",
            "Epoch 2/20\n",
            "1578/1578 [==============================] - 21s 13ms/step - loss: 0.4508 - precision: 0.4982 - recall: 0.1994 - auc: 0.7416 - val_loss: 0.3721 - val_precision: 0.6975 - val_recall: 0.2831 - val_auc: 0.8523\n",
            "Epoch 3/20\n",
            "1578/1578 [==============================] - 21s 13ms/step - loss: 0.3770 - precision: 0.6620 - recall: 0.3712 - auc: 0.8403 - val_loss: 0.3207 - val_precision: 0.7863 - val_recall: 0.4579 - val_auc: 0.8931\n",
            "Epoch 4/20\n",
            "1578/1578 [==============================] - 21s 13ms/step - loss: 0.3271 - precision: 0.7358 - recall: 0.4958 - auc: 0.8844 - val_loss: 0.2902 - val_precision: 0.7827 - val_recall: 0.5556 - val_auc: 0.9117\n",
            "Epoch 5/20\n",
            "1578/1578 [==============================] - 21s 13ms/step - loss: 0.2985 - precision: 0.7664 - recall: 0.5527 - auc: 0.9044 - val_loss: 0.2718 - val_precision: 0.8176 - val_recall: 0.5468 - val_auc: 0.9220\n",
            "Epoch 6/20\n",
            "1578/1578 [==============================] - 21s 13ms/step - loss: 0.2811 - precision: 0.7763 - recall: 0.5802 - auc: 0.9151 - val_loss: 0.2625 - val_precision: 0.8149 - val_recall: 0.5760 - val_auc: 0.9266\n",
            "Epoch 7/20\n",
            "1578/1578 [==============================] - 21s 13ms/step - loss: 0.2713 - precision: 0.7837 - recall: 0.5955 - auc: 0.9205 - val_loss: 0.2569 - val_precision: 0.8127 - val_recall: 0.5919 - val_auc: 0.9294\n",
            "Epoch 8/20\n",
            "1578/1578 [==============================] - 21s 13ms/step - loss: 0.2654 - precision: 0.7883 - recall: 0.6051 - auc: 0.9242 - val_loss: 0.2527 - val_precision: 0.8045 - val_recall: 0.6120 - val_auc: 0.9317\n",
            "Epoch 9/20\n",
            "1578/1578 [==============================] - 21s 13ms/step - loss: 0.2603 - precision: 0.7930 - recall: 0.6139 - auc: 0.9274 - val_loss: 0.2495 - val_precision: 0.8115 - val_recall: 0.6133 - val_auc: 0.9333\n",
            "Epoch 10/20\n",
            "1578/1578 [==============================] - 21s 13ms/step - loss: 0.2536 - precision: 0.7952 - recall: 0.6220 - auc: 0.9308 - val_loss: 0.2469 - val_precision: 0.7937 - val_recall: 0.6373 - val_auc: 0.9349\n",
            "Epoch 11/20\n",
            "1578/1578 [==============================] - 21s 13ms/step - loss: 0.2516 - precision: 0.8005 - recall: 0.6272 - auc: 0.9329 - val_loss: 0.2443 - val_precision: 0.8120 - val_recall: 0.6241 - val_auc: 0.9361\n",
            "Epoch 12/20\n",
            "1578/1578 [==============================] - 21s 13ms/step - loss: 0.2460 - precision: 0.8048 - recall: 0.6300 - auc: 0.9352 - val_loss: 0.2420 - val_precision: 0.8075 - val_recall: 0.6353 - val_auc: 0.9373\n",
            "Epoch 13/20\n",
            "1578/1578 [==============================] - 21s 13ms/step - loss: 0.2424 - precision: 0.8065 - recall: 0.6339 - auc: 0.9371 - val_loss: 0.2401 - val_precision: 0.8058 - val_recall: 0.6420 - val_auc: 0.9383\n",
            "Epoch 14/20\n",
            "1578/1578 [==============================] - 21s 13ms/step - loss: 0.2404 - precision: 0.8100 - recall: 0.6387 - auc: 0.9384 - val_loss: 0.2388 - val_precision: 0.8198 - val_recall: 0.6318 - val_auc: 0.9391\n",
            "Epoch 15/20\n",
            "1578/1578 [==============================] - 21s 13ms/step - loss: 0.2384 - precision: 0.8124 - recall: 0.6375 - auc: 0.9398 - val_loss: 0.2368 - val_precision: 0.8146 - val_recall: 0.6402 - val_auc: 0.9400\n",
            "Epoch 16/20\n",
            "1578/1578 [==============================] - 21s 13ms/step - loss: 0.2345 - precision: 0.8166 - recall: 0.6440 - auc: 0.9418 - val_loss: 0.2353 - val_precision: 0.8060 - val_recall: 0.6538 - val_auc: 0.9410\n",
            "Epoch 17/20\n",
            "1578/1578 [==============================] - 21s 13ms/step - loss: 0.2330 - precision: 0.8173 - recall: 0.6473 - auc: 0.9428 - val_loss: 0.2341 - val_precision: 0.8095 - val_recall: 0.6527 - val_auc: 0.9415\n",
            "Epoch 18/20\n",
            "1578/1578 [==============================] - 21s 13ms/step - loss: 0.2311 - precision: 0.8196 - recall: 0.6480 - auc: 0.9436 - val_loss: 0.2327 - val_precision: 0.8178 - val_recall: 0.6476 - val_auc: 0.9423\n",
            "Epoch 19/20\n",
            "1578/1578 [==============================] - 21s 13ms/step - loss: 0.2286 - precision: 0.8207 - recall: 0.6470 - auc: 0.9447 - val_loss: 0.2314 - val_precision: 0.8131 - val_recall: 0.6549 - val_auc: 0.9429\n",
            "Epoch 20/20\n",
            "1578/1578 [==============================] - 21s 13ms/step - loss: 0.2276 - precision: 0.8225 - recall: 0.6538 - auc: 0.9454 - val_loss: 0.2311 - val_precision: 0.8275 - val_recall: 0.6418 - val_auc: 0.9434\n"
          ],
          "name": "stdout"
        }
      ]
    },
    {
      "cell_type": "code",
      "metadata": {
        "id": "-UrhXuC6f5Gh",
        "colab": {
          "base_uri": "https://localhost:8080/",
          "height": 1000
        },
        "outputId": "974290ba-bc63-4f28-d732-53d1cb491f3d"
      },
      "source": [
        "plot_graphs(history4, \"auc\") \n",
        "plot_graphs(history4, \"precision\") \n",
        "plot_graphs(history4, \"recall\") \n",
        "plot_graphs(history4, \"loss\")"
      ],
      "execution_count": null,
      "outputs": [
        {
          "output_type": "display_data",
          "data": {
            "image/png": "[encoded data removed]",
            "text/plain": [
              "<Figure size 432x288 with 1 Axes>"
            ]
          },
          "metadata": {
            "tags": [],
            "needs_background": "light"
          }
        },
        {
          "output_type": "display_data",
          "data": {
            "image/png": "[encoded data removed]",
            "text/plain": [
              "<Figure size 432x288 with 1 Axes>"
            ]
          },
          "metadata": {
            "tags": [],
            "needs_background": "light"
          }
        },
        {
          "output_type": "display_data",
          "data": {
            "image/png": "[encoded data removed]",
            "text/plain": [
              "<Figure size 432x288 with 1 Axes>"
            ]
          },
          "metadata": {
            "tags": [],
            "needs_background": "light"
          }
        },
        {
          "output_type": "display_data",
          "data": {
            "image/png": "[encoded data removed]",
            "text/plain": [
              "<Figure size 432x288 with 1 Axes>"
            ]
          },
          "metadata": {
            "tags": [],
            "needs_background": "light"
          }
        }
      ]
    },
    {
      "cell_type": "markdown",
      "metadata": {
        "id": "MseM5NqIf6ei"
      },
      "source": [
        "####Valutazione con il test"
      ]
    },
    {
      "cell_type": "code",
      "metadata": {
        "id": "AkjXCvCrf_P7",
        "colab": {
          "base_uri": "https://localhost:8080/"
        },
        "outputId": "5377989f-58cb-4c36-a3aa-d102411b466c"
      },
      "source": [
        "y_pred = (model_cnn.predict(x_test_data_augmentation) > 0.5).astype(\"int32\")\n",
        "print(classification_report(y_test, y_pred, target_names=test_labels.columns[1:]))"
      ],
      "execution_count": null,
      "outputs": [
        {
          "output_type": "stream",
          "text": [
            "               precision    recall  f1-score   support\n",
            "\n",
            "        toxic       0.30      0.78      0.43      6090\n",
            " severe_toxic       0.29      0.53      0.38       367\n",
            "      obscene       0.52      0.50      0.51      3691\n",
            "       threat       0.11      0.00      0.01       211\n",
            "       insult       0.48      0.46      0.47      3427\n",
            "identity_hate       0.48      0.02      0.04       712\n",
            "\n",
            "    micro avg       0.35      0.58      0.44     14498\n",
            "    macro avg       0.36      0.38      0.31     14498\n",
            " weighted avg       0.40      0.58      0.43     14498\n",
            "  samples avg       0.07      0.06      0.06     14498\n",
            "\n"
          ],
          "name": "stdout"
        },
        {
          "output_type": "stream",
          "text": [
            "/usr/local/lib/python3.6/dist-packages/sklearn/metrics/_classification.py:1272: UndefinedMetricWarning: Precision and F-score are ill-defined and being set to 0.0 in samples with no predicted labels. Use `zero_division` parameter to control this behavior.\n",
            "  _warn_prf(average, modifier, msg_start, len(result))\n",
            "/usr/local/lib/python3.6/dist-packages/sklearn/metrics/_classification.py:1272: UndefinedMetricWarning: Recall and F-score are ill-defined and being set to 0.0 in samples with no true labels. Use `zero_division` parameter to control this behavior.\n",
            "  _warn_prf(average, modifier, msg_start, len(result))\n"
          ],
          "name": "stderr"
        }
      ]
    },
    {
      "cell_type": "markdown",
      "metadata": {
        "id": "eOfSumw1w616"
      },
      "source": [
        "##GRU"
      ]
    },
    {
      "cell_type": "markdown",
      "metadata": {
        "id": "4ON1Dt3yzcpt"
      },
      "source": [
        "Definizione del modello GRU"
      ]
    },
    {
      "cell_type": "markdown",
      "metadata": {
        "id": "pko5HmD8gGKv"
      },
      "source": [
        "###Se subsampling"
      ]
    },
    {
      "cell_type": "code",
      "metadata": {
        "id": "NZkHBuClw81V",
        "colab": {
          "base_uri": "https://localhost:8080/"
        },
        "outputId": "344db37a-5791-4f3d-97db-8300cd36f5b4"
      },
      "source": [
        "model_gru = Sequential()\n",
        "model_gru.add(Embedding(input_dim=60000, output_dim=64,input_length=150))\n",
        "model_gru.add(Bidirectional((GRU(128, dropout=0.2))))\n",
        "model_gru.add(Dense(6, activation=\"sigmoid\"))\n",
        "model_gru.summary()"
      ],
      "execution_count": null,
      "outputs": [
        {
          "output_type": "stream",
          "text": [
            "Model: \"sequential_28\"\n",
            "_________________________________________________________________\n",
            "Layer (type)                 Output Shape              Param #   \n",
            "=================================================================\n",
            "embedding_28 (Embedding)     (None, 150, 64)           3840000   \n",
            "_________________________________________________________________\n",
            "bidirectional_21 (Bidirectio (None, 256)               148992    \n",
            "_________________________________________________________________\n",
            "dense_31 (Dense)             (None, 6)                 1542      \n",
            "=================================================================\n",
            "Total params: 3,990,534\n",
            "Trainable params: 3,990,534\n",
            "Non-trainable params: 0\n",
            "_________________________________________________________________\n"
          ],
          "name": "stdout"
        }
      ]
    },
    {
      "cell_type": "code",
      "metadata": {
        "id": "1XOHYRltxX7-",
        "colab": {
          "base_uri": "https://localhost:8080/"
        },
        "outputId": "eac18fbc-b1f8-4573-f322-38bc1ee616e8"
      },
      "source": [
        "optimizer=Adamax(learning_rate=1e-3)\n",
        "model_gru.compile(loss=\"binary_crossentropy\", optimizer=optimizer, metrics=['Precision', 'Recall', 'AUC'])\n",
        "num_epochs = 20\n",
        "early_stopping = EarlyStopping(monitor='val_loss', patience=3)\n",
        "history5 = model_gru.fit(x_train_subsampling, y_train_subsampling, epochs=num_epochs, batch_size=128, validation_split=0.2, verbose=1, callbacks=[early_stopping])"
      ],
      "execution_count": null,
      "outputs": [
        {
          "output_type": "stream",
          "text": [
            "Epoch 1/20\n",
            "203/203 [==============================] - 10s 31ms/step - loss: 0.4523 - precision: 0.4974 - recall: 0.3217 - auc: 0.7598 - val_loss: 0.2713 - val_precision: 0.7930 - val_recall: 0.5619 - val_auc: 0.9172\n",
            "Epoch 2/20\n",
            "203/203 [==============================] - 5s 27ms/step - loss: 0.2499 - precision: 0.8002 - recall: 0.6059 - auc: 0.9267 - val_loss: 0.2215 - val_precision: 0.8416 - val_recall: 0.6552 - val_auc: 0.9412\n",
            "Epoch 3/20\n",
            "203/203 [==============================] - 5s 27ms/step - loss: 0.2095 - precision: 0.8258 - recall: 0.6869 - auc: 0.9477 - val_loss: 0.2071 - val_precision: 0.8297 - val_recall: 0.7014 - val_auc: 0.9483\n",
            "Epoch 4/20\n",
            "203/203 [==============================] - 5s 27ms/step - loss: 0.1969 - precision: 0.8397 - recall: 0.7197 - auc: 0.9544 - val_loss: 0.2014 - val_precision: 0.8490 - val_recall: 0.6964 - val_auc: 0.9515\n",
            "Epoch 5/20\n",
            "203/203 [==============================] - 5s 27ms/step - loss: 0.1887 - precision: 0.8400 - recall: 0.7335 - auc: 0.9580 - val_loss: 0.1972 - val_precision: 0.8222 - val_recall: 0.7328 - val_auc: 0.9531\n",
            "Epoch 6/20\n",
            "203/203 [==============================] - 5s 27ms/step - loss: 0.1780 - precision: 0.8428 - recall: 0.7480 - auc: 0.9628 - val_loss: 0.1956 - val_precision: 0.8191 - val_recall: 0.7496 - val_auc: 0.9542\n",
            "Epoch 7/20\n",
            "203/203 [==============================] - 5s 27ms/step - loss: 0.1735 - precision: 0.8525 - recall: 0.7593 - auc: 0.9653 - val_loss: 0.1941 - val_precision: 0.8439 - val_recall: 0.7270 - val_auc: 0.9547\n",
            "Epoch 8/20\n",
            "203/203 [==============================] - 5s 27ms/step - loss: 0.1682 - precision: 0.8529 - recall: 0.7629 - auc: 0.9674 - val_loss: 0.1932 - val_precision: 0.8341 - val_recall: 0.7442 - val_auc: 0.9549\n",
            "Epoch 9/20\n",
            "203/203 [==============================] - 5s 27ms/step - loss: 0.1633 - precision: 0.8580 - recall: 0.7730 - auc: 0.9690 - val_loss: 0.1925 - val_precision: 0.8142 - val_recall: 0.7617 - val_auc: 0.9560\n",
            "Epoch 10/20\n",
            "203/203 [==============================] - 5s 27ms/step - loss: 0.1597 - precision: 0.8659 - recall: 0.7773 - auc: 0.9708 - val_loss: 0.1948 - val_precision: 0.8535 - val_recall: 0.7277 - val_auc: 0.9542\n",
            "Epoch 11/20\n",
            "203/203 [==============================] - 5s 27ms/step - loss: 0.1560 - precision: 0.8644 - recall: 0.7747 - auc: 0.9723 - val_loss: 0.1925 - val_precision: 0.8260 - val_recall: 0.7611 - val_auc: 0.9554\n",
            "Epoch 12/20\n",
            "203/203 [==============================] - 5s 27ms/step - loss: 0.1520 - precision: 0.8698 - recall: 0.7890 - auc: 0.9740 - val_loss: 0.1993 - val_precision: 0.8544 - val_recall: 0.7295 - val_auc: 0.9518\n"
          ],
          "name": "stdout"
        }
      ]
    },
    {
      "cell_type": "code",
      "metadata": {
        "id": "QDOjiHOFxk31",
        "colab": {
          "base_uri": "https://localhost:8080/"
        },
        "outputId": "c4e6ce83-6461-4536-b24c-996fa60e093a"
      },
      "source": [
        "plot_graphs(history5, \"auc\") \n",
        "plot_graphs(history5, \"precision\") \n",
        "plot_graphs(history5, \"recall\") \n",
        "plot_graphs(history5, \"loss\")"
      ],
      "execution_count": null,
      "outputs": [
        {
          "output_type": "display_data",
          "data": {
            "image/png": "[encoded data removed]",
            "text/plain": [
              "<Figure size 432x288 with 1 Axes>"
            ]
          },
          "metadata": {
            "tags": [],
            "needs_background": "light"
          }
        },
        {
          "output_type": "display_data",
          "data": {
            "image/png": "[encoded data removed]",
            "text/plain": [
              "<Figure size 432x288 with 1 Axes>"
            ]
          },
          "metadata": {
            "tags": [],
            "needs_background": "light"
          }
        },
        {
          "output_type": "display_data",
          "data": {
            "image/png": "[encoded data removed]",
            "text/plain": [
              "<Figure size 432x288 with 1 Axes>"
            ]
          },
          "metadata": {
            "tags": [],
            "needs_background": "light"
          }
        },
        {
          "output_type": "display_data",
          "data": {
            "image/png": "[encoded data removed]",
            "text/plain": [
              "<Figure size 432x288 with 1 Axes>"
            ]
          },
          "metadata": {
            "tags": [],
            "needs_background": "light"
          }
        }
      ]
    },
    {
      "cell_type": "markdown",
      "metadata": {
        "id": "uffCmQyhxlnF"
      },
      "source": [
        "####Valutazione con il test"
      ]
    },
    {
      "cell_type": "code",
      "metadata": {
        "id": "pFWOz53xxn2y",
        "colab": {
          "base_uri": "https://localhost:8080/"
        },
        "outputId": "815edc80-253e-483b-a426-3141780e7360"
      },
      "source": [
        "y_pred = (model_gru.predict(x_test_subsampling) > 0.5).astype(\"int32\")\n",
        "print(classification_report(y_test, y_pred, target_names=test_labels.columns[1:]))"
      ],
      "execution_count": null,
      "outputs": [
        {
          "output_type": "stream",
          "text": [
            "               precision    recall  f1-score   support\n",
            "\n",
            "        toxic       0.38      0.93      0.54      6090\n",
            " severe_toxic       0.40      0.27      0.32       367\n",
            "      obscene       0.61      0.75      0.68      3691\n",
            "       threat       0.00      0.00      0.00       211\n",
            "       insult       0.57      0.60      0.59      3427\n",
            "identity_hate       0.00      0.00      0.00       712\n",
            "\n",
            "    micro avg       0.46      0.73      0.56     14498\n",
            "    macro avg       0.33      0.43      0.36     14498\n",
            " weighted avg       0.46      0.73      0.55     14498\n",
            "  samples avg       0.08      0.07      0.07     14498\n",
            "\n"
          ],
          "name": "stdout"
        },
        {
          "output_type": "stream",
          "text": [
            "/usr/local/lib/python3.6/dist-packages/sklearn/metrics/_classification.py:1272: UndefinedMetricWarning: Precision and F-score are ill-defined and being set to 0.0 in labels with no predicted samples. Use `zero_division` parameter to control this behavior.\n",
            "  _warn_prf(average, modifier, msg_start, len(result))\n",
            "/usr/local/lib/python3.6/dist-packages/sklearn/metrics/_classification.py:1272: UndefinedMetricWarning: Precision and F-score are ill-defined and being set to 0.0 in samples with no predicted labels. Use `zero_division` parameter to control this behavior.\n",
            "  _warn_prf(average, modifier, msg_start, len(result))\n",
            "/usr/local/lib/python3.6/dist-packages/sklearn/metrics/_classification.py:1272: UndefinedMetricWarning: Recall and F-score are ill-defined and being set to 0.0 in samples with no true labels. Use `zero_division` parameter to control this behavior.\n",
            "  _warn_prf(average, modifier, msg_start, len(result))\n"
          ],
          "name": "stderr"
        }
      ]
    },
    {
      "cell_type": "markdown",
      "metadata": {
        "id": "zY_3Ma_ZgYCx"
      },
      "source": [
        "###Se data augmentation"
      ]
    },
    {
      "cell_type": "code",
      "metadata": {
        "id": "3dwxGuoTgXZy",
        "colab": {
          "base_uri": "https://localhost:8080/"
        },
        "outputId": "711bd2fa-f32d-4d2d-c88d-be9007ce9ed1"
      },
      "source": [
        "model_gru = Sequential()\n",
        "model_gru.add(Embedding(input_dim=60000, output_dim=64, input_length=150))\n",
        "model_gru.add(Bidirectional((GRU(128))))\n",
        "model_gru.add(Dense(6, activation=\"sigmoid\"))\n",
        "model_gru.summary()"
      ],
      "execution_count": null,
      "outputs": [
        {
          "output_type": "stream",
          "text": [
            "Model: \"sequential_2\"\n",
            "_________________________________________________________________\n",
            "Layer (type)                 Output Shape              Param #   \n",
            "=================================================================\n",
            "embedding_2 (Embedding)      (None, 150, 64)           3840000   \n",
            "_________________________________________________________________\n",
            "bidirectional_2 (Bidirection (None, 256)               148992    \n",
            "_________________________________________________________________\n",
            "dense_2 (Dense)              (None, 6)                 1542      \n",
            "=================================================================\n",
            "Total params: 3,990,534\n",
            "Trainable params: 3,990,534\n",
            "Non-trainable params: 0\n",
            "_________________________________________________________________\n"
          ],
          "name": "stdout"
        }
      ]
    },
    {
      "cell_type": "code",
      "metadata": {
        "id": "lF8_t_svggTA",
        "colab": {
          "base_uri": "https://localhost:8080/"
        },
        "outputId": "b858e011-fc4d-4ee8-e1c0-e78fd6660c0b"
      },
      "source": [
        "optimizer=Adamax(learning_rate=1e-4)\n",
        "model_gru.compile(loss=\"binary_crossentropy\", optimizer=optimizer, metrics=['Precision', 'Recall', 'AUC'])\n",
        "num_epochs = 20\n",
        "early_stopping = EarlyStopping(monitor='val_loss', patience=3)\n",
        "history6 = model_gru.fit(x_train_data_augmentation, y_train_data_augmentation, epochs=num_epochs, batch_size=128, validation_split=0.2, verbose=1, callbacks=[early_stopping])"
      ],
      "execution_count": null,
      "outputs": [
        {
          "output_type": "stream",
          "text": [
            "Epoch 1/20\n",
            "1578/1578 [==============================] - 45s 27ms/step - loss: 0.4985 - precision: 0.5104 - recall: 0.0545 - auc: 0.6886 - val_loss: 0.3152 - val_precision: 0.8409 - val_recall: 0.4646 - val_auc: 0.9036\n",
            "Epoch 2/20\n",
            "1578/1578 [==============================] - 41s 26ms/step - loss: 0.2996 - precision: 0.8166 - recall: 0.5338 - auc: 0.9084 - val_loss: 0.2621 - val_precision: 0.8319 - val_recall: 0.6048 - val_auc: 0.9286\n",
            "Epoch 3/20\n",
            "1578/1578 [==============================] - 41s 26ms/step - loss: 0.2625 - precision: 0.8057 - recall: 0.6280 - auc: 0.9270 - val_loss: 0.2441 - val_precision: 0.8329 - val_recall: 0.6461 - val_auc: 0.9376\n",
            "Epoch 4/20\n",
            "1578/1578 [==============================] - 42s 26ms/step - loss: 0.2441 - precision: 0.8231 - recall: 0.6525 - auc: 0.9371 - val_loss: 0.2327 - val_precision: 0.8383 - val_recall: 0.6654 - val_auc: 0.9431\n",
            "Epoch 5/20\n",
            "1578/1578 [==============================] - 41s 26ms/step - loss: 0.2339 - precision: 0.8354 - recall: 0.6669 - auc: 0.9423 - val_loss: 0.2250 - val_precision: 0.8396 - val_recall: 0.6816 - val_auc: 0.9467\n",
            "Epoch 6/20\n",
            "1578/1578 [==============================] - 41s 26ms/step - loss: 0.2253 - precision: 0.8423 - recall: 0.6777 - auc: 0.9467 - val_loss: 0.2188 - val_precision: 0.8560 - val_recall: 0.6772 - val_auc: 0.9498\n",
            "Epoch 7/20\n",
            "1578/1578 [==============================] - 41s 26ms/step - loss: 0.2196 - precision: 0.8452 - recall: 0.6848 - auc: 0.9493 - val_loss: 0.2143 - val_precision: 0.8584 - val_recall: 0.6818 - val_auc: 0.9519\n",
            "Epoch 8/20\n",
            "1578/1578 [==============================] - 42s 26ms/step - loss: 0.2144 - precision: 0.8491 - recall: 0.6902 - auc: 0.9519 - val_loss: 0.2100 - val_precision: 0.8595 - val_recall: 0.6914 - val_auc: 0.9537\n",
            "Epoch 9/20\n",
            "1578/1578 [==============================] - 42s 26ms/step - loss: 0.2108 - precision: 0.8541 - recall: 0.6934 - auc: 0.9537 - val_loss: 0.2067 - val_precision: 0.8574 - val_recall: 0.6982 - val_auc: 0.9554\n",
            "Epoch 10/20\n",
            "1578/1578 [==============================] - 42s 26ms/step - loss: 0.2049 - precision: 0.8572 - recall: 0.6999 - auc: 0.9562 - val_loss: 0.2053 - val_precision: 0.8447 - val_recall: 0.7144 - val_auc: 0.9562\n",
            "Epoch 11/20\n",
            "1578/1578 [==============================] - 41s 26ms/step - loss: 0.2038 - precision: 0.8591 - recall: 0.7051 - auc: 0.9574 - val_loss: 0.2014 - val_precision: 0.8565 - val_recall: 0.7100 - val_auc: 0.9578\n",
            "Epoch 12/20\n",
            "1578/1578 [==============================] - 41s 26ms/step - loss: 0.1993 - precision: 0.8607 - recall: 0.7080 - auc: 0.9589 - val_loss: 0.2001 - val_precision: 0.8473 - val_recall: 0.7216 - val_auc: 0.9589\n",
            "Epoch 13/20\n",
            "1578/1578 [==============================] - 41s 26ms/step - loss: 0.1951 - precision: 0.8636 - recall: 0.7124 - auc: 0.9608 - val_loss: 0.1954 - val_precision: 0.8635 - val_recall: 0.7115 - val_auc: 0.9607\n",
            "Epoch 14/20\n",
            "1578/1578 [==============================] - 42s 26ms/step - loss: 0.1929 - precision: 0.8639 - recall: 0.7177 - auc: 0.9621 - val_loss: 0.1926 - val_precision: 0.8524 - val_recall: 0.7358 - val_auc: 0.9628\n",
            "Epoch 15/20\n",
            "1578/1578 [==============================] - 42s 26ms/step - loss: 0.1888 - precision: 0.8624 - recall: 0.7304 - auc: 0.9643 - val_loss: 0.1871 - val_precision: 0.8466 - val_recall: 0.7571 - val_auc: 0.9652\n",
            "Epoch 16/20\n",
            "1578/1578 [==============================] - 42s 26ms/step - loss: 0.1827 - precision: 0.8591 - recall: 0.7501 - auc: 0.9667 - val_loss: 0.1806 - val_precision: 0.8441 - val_recall: 0.7773 - val_auc: 0.9676\n",
            "Epoch 17/20\n",
            "1578/1578 [==============================] - 42s 26ms/step - loss: 0.1765 - precision: 0.8576 - recall: 0.7711 - auc: 0.9693 - val_loss: 0.1738 - val_precision: 0.8501 - val_recall: 0.7851 - val_auc: 0.9702\n",
            "Epoch 18/20\n",
            "1578/1578 [==============================] - 42s 26ms/step - loss: 0.1687 - precision: 0.8629 - recall: 0.7807 - auc: 0.9720 - val_loss: 0.1690 - val_precision: 0.8709 - val_recall: 0.7686 - val_auc: 0.9717\n",
            "Epoch 19/20\n",
            "1578/1578 [==============================] - 42s 26ms/step - loss: 0.1631 - precision: 0.8675 - recall: 0.7863 - auc: 0.9739 - val_loss: 0.1657 - val_precision: 0.8791 - val_recall: 0.7681 - val_auc: 0.9729\n",
            "Epoch 20/20\n",
            "1578/1578 [==============================] - 42s 26ms/step - loss: 0.1602 - precision: 0.8712 - recall: 0.7922 - auc: 0.9749 - val_loss: 0.1618 - val_precision: 0.8694 - val_recall: 0.7933 - val_auc: 0.9741\n"
          ],
          "name": "stdout"
        }
      ]
    },
    {
      "cell_type": "code",
      "metadata": {
        "id": "NcLCZbMogpRP",
        "colab": {
          "base_uri": "https://localhost:8080/",
          "height": 1000
        },
        "outputId": "3c9ab6d9-751b-497c-b8a6-2e269266a050"
      },
      "source": [
        "plot_graphs(history6, \"auc\") \n",
        "plot_graphs(history6, \"precision\") \n",
        "plot_graphs(history6, \"recall\") \n",
        "plot_graphs(history6, \"loss\")"
      ],
      "execution_count": null,
      "outputs": [
        {
          "output_type": "display_data",
          "data": {
            "image/png": "[encoded data removed]",
            "text/plain": [
              "<Figure size 432x288 with 1 Axes>"
            ]
          },
          "metadata": {
            "tags": [],
            "needs_background": "light"
          }
        },
        {
          "output_type": "display_data",
          "data": {
            "image/png": "[encoded data removed]",
            "text/plain": [
              "<Figure size 432x288 with 1 Axes>"
            ]
          },
          "metadata": {
            "tags": [],
            "needs_background": "light"
          }
        },
        {
          "output_type": "display_data",
          "data": {
            "image/png": "[encoded data removed]",
            "text/plain": [
              "<Figure size 432x288 with 1 Axes>"
            ]
          },
          "metadata": {
            "tags": [],
            "needs_background": "light"
          }
        },
        {
          "output_type": "display_data",
          "data": {
            "image/png": "[encoded data removed]",
            "text/plain": [
              "<Figure size 432x288 with 1 Axes>"
            ]
          },
          "metadata": {
            "tags": [],
            "needs_background": "light"
          }
        }
      ]
    },
    {
      "cell_type": "markdown",
      "metadata": {
        "id": "-ghD-SLDgqTd"
      },
      "source": [
        "####Valutazione con il test"
      ]
    },
    {
      "cell_type": "code",
      "metadata": {
        "id": "plbVwMX9gviy",
        "colab": {
          "base_uri": "https://localhost:8080/"
        },
        "outputId": "778147bb-0446-4cf1-dd3c-4d07f7e1b0b5"
      },
      "source": [
        "y_pred = (model_gru.predict(x_test_data_augmentation) > 0.5).astype(\"int32\")\n",
        "print(classification_report(y_test, y_pred, target_names=test_labels.columns[1:]))"
      ],
      "execution_count": null,
      "outputs": [
        {
          "output_type": "stream",
          "text": [
            "               precision    recall  f1-score   support\n",
            "\n",
            "        toxic       0.44      0.91      0.59      6090\n",
            " severe_toxic       0.29      0.62      0.40       367\n",
            "      obscene       0.60      0.78      0.68      3691\n",
            "       threat       0.22      0.66      0.34       211\n",
            "       insult       0.52      0.67      0.58      3427\n",
            "identity_hate       0.45      0.11      0.17       712\n",
            "\n",
            "    micro avg       0.47      0.77      0.59     14498\n",
            "    macro avg       0.42      0.62      0.46     14498\n",
            " weighted avg       0.49      0.77      0.58     14498\n",
            "  samples avg       0.08      0.07      0.07     14498\n",
            "\n"
          ],
          "name": "stdout"
        },
        {
          "output_type": "stream",
          "text": [
            "/usr/local/lib/python3.6/dist-packages/sklearn/metrics/_classification.py:1272: UndefinedMetricWarning: Precision and F-score are ill-defined and being set to 0.0 in samples with no predicted labels. Use `zero_division` parameter to control this behavior.\n",
            "  _warn_prf(average, modifier, msg_start, len(result))\n",
            "/usr/local/lib/python3.6/dist-packages/sklearn/metrics/_classification.py:1272: UndefinedMetricWarning: Recall and F-score are ill-defined and being set to 0.0 in samples with no true labels. Use `zero_division` parameter to control this behavior.\n",
            "  _warn_prf(average, modifier, msg_start, len(result))\n"
          ],
          "name": "stderr"
        }
      ]
    },
    {
      "cell_type": "markdown",
      "metadata": {
        "id": "TU5gaUXvJkC3"
      },
      "source": [
        "#MODELLO Binary + Multilabel"
      ]
    },
    {
      "cell_type": "markdown",
      "metadata": {
        "id": "sexMC3mPPORf"
      },
      "source": [
        "##Modello BINARY"
      ]
    },
    {
      "cell_type": "markdown",
      "metadata": {
        "id": "VIJYJYfwQKn4"
      },
      "source": [
        "Per il problema binario viene estratta soltanto la colonna toxic"
      ]
    },
    {
      "cell_type": "code",
      "metadata": {
        "id": "3mVUCrmrK8_R"
      },
      "source": [
        "y_train_binary=train_augmented[train_augmented.columns[2]].values"
      ],
      "execution_count": null,
      "outputs": []
    },
    {
      "cell_type": "markdown",
      "metadata": {
        "id": "VVOLJoQWQRF4"
      },
      "source": [
        "Definizione del modello"
      ]
    },
    {
      "cell_type": "code",
      "metadata": {
        "colab": {
          "base_uri": "https://localhost:8080/"
        },
        "id": "ixJfwZnVK9nO",
        "outputId": "45cf9276-6a03-46c9-b58d-f8d7ce733021"
      },
      "source": [
        "model_LSTM_binary = Sequential()\n",
        "model_LSTM_binary.add(Embedding(input_dim=60000, output_dim=128,input_length=150))\n",
        "model_LSTM_binary.add(Bidirectional((LSTM(128, dropout=0.2))))\n",
        "model_LSTM_binary.add(Dense(1, activation=\"sigmoid\"))\n",
        "model_LSTM_binary.summary()"
      ],
      "execution_count": null,
      "outputs": [
        {
          "output_type": "stream",
          "text": [
            "Model: \"sequential_11\"\n",
            "_________________________________________________________________\n",
            "Layer (type)                 Output Shape              Param #   \n",
            "=================================================================\n",
            "embedding_11 (Embedding)     (None, 150, 128)          7680000   \n",
            "_________________________________________________________________\n",
            "bidirectional_6 (Bidirection (None, 256)               263168    \n",
            "_________________________________________________________________\n",
            "dense_13 (Dense)             (None, 1)                 257       \n",
            "=================================================================\n",
            "Total params: 7,943,425\n",
            "Trainable params: 7,943,425\n",
            "Non-trainable params: 0\n",
            "_________________________________________________________________\n"
          ],
          "name": "stdout"
        }
      ]
    },
    {
      "cell_type": "code",
      "metadata": {
        "colab": {
          "base_uri": "https://localhost:8080/"
        },
        "id": "eb7sGZp2OvmE",
        "outputId": "1db28206-4a70-4a17-fe17-bece99698bca"
      },
      "source": [
        "optimizer=Adamax(learning_rate=1e-4)\n",
        "model_LSTM_binary.compile(loss=\"binary_crossentropy\", optimizer=optimizer, metrics=['accuracy','Precision', 'Recall', 'AUC'])\n",
        "num_epochs = 20\n",
        "early_stopping = EarlyStopping(monitor='val_loss', patience=3)\n",
        "history7 = model_LSTM_binary.fit(x_train_data_augmentation, y_train_binary, epochs=num_epochs, batch_size=128, validation_split=0.2, verbose=1, callbacks=[early_stopping])"
      ],
      "execution_count": null,
      "outputs": [
        {
          "output_type": "stream",
          "text": [
            "Epoch 1/20\n",
            "1578/1578 [==============================] - 59s 36ms/step - loss: 0.6046 - accuracy: 0.6630 - precision: 0.6646 - recall: 0.4417 - auc: 0.7175 - val_loss: 0.3690 - val_accuracy: 0.8465 - val_precision: 0.7923 - val_recall: 0.8714 - val_auc: 0.9259\n",
            "Epoch 2/20\n",
            "1578/1578 [==============================] - 56s 35ms/step - loss: 0.3417 - accuracy: 0.8678 - precision: 0.8688 - recall: 0.8179 - auc: 0.9312 - val_loss: 0.2804 - val_accuracy: 0.8882 - val_precision: 0.8547 - val_recall: 0.8914 - val_auc: 0.9537\n",
            "Epoch 3/20\n",
            "1578/1578 [==============================] - 56s 35ms/step - loss: 0.2626 - accuracy: 0.8962 - precision: 0.9060 - recall: 0.8472 - auc: 0.9570 - val_loss: 0.2299 - val_accuracy: 0.9109 - val_precision: 0.9064 - val_recall: 0.8840 - val_auc: 0.9671\n",
            "Epoch 4/20\n",
            "1578/1578 [==============================] - 56s 35ms/step - loss: 0.2231 - accuracy: 0.9111 - precision: 0.9195 - recall: 0.8707 - auc: 0.9686 - val_loss: 0.2079 - val_accuracy: 0.9173 - val_precision: 0.9420 - val_recall: 0.8606 - val_auc: 0.9729\n",
            "Epoch 5/20\n",
            "1578/1578 [==============================] - 56s 35ms/step - loss: 0.2000 - accuracy: 0.9208 - precision: 0.9293 - recall: 0.8843 - auc: 0.9748 - val_loss: 0.1908 - val_accuracy: 0.9248 - val_precision: 0.9358 - val_recall: 0.8858 - val_auc: 0.9770\n",
            "Epoch 6/20\n",
            "1578/1578 [==============================] - 55s 35ms/step - loss: 0.1850 - accuracy: 0.9266 - precision: 0.9332 - recall: 0.8944 - auc: 0.9783 - val_loss: 0.1806 - val_accuracy: 0.9289 - val_precision: 0.9412 - val_recall: 0.8902 - val_auc: 0.9792\n",
            "Epoch 7/20\n",
            "1578/1578 [==============================] - 55s 35ms/step - loss: 0.1762 - accuracy: 0.9307 - precision: 0.9363 - recall: 0.9014 - auc: 0.9803 - val_loss: 0.1739 - val_accuracy: 0.9311 - val_precision: 0.9305 - val_recall: 0.9075 - val_auc: 0.9805\n",
            "Epoch 8/20\n",
            "1578/1578 [==============================] - 56s 35ms/step - loss: 0.1673 - accuracy: 0.9339 - precision: 0.9377 - recall: 0.9075 - auc: 0.9823 - val_loss: 0.1675 - val_accuracy: 0.9342 - val_precision: 0.9429 - val_recall: 0.9015 - val_auc: 0.9820\n",
            "Epoch 9/20\n",
            "1578/1578 [==============================] - 56s 35ms/step - loss: 0.1598 - accuracy: 0.9372 - precision: 0.9397 - recall: 0.9137 - auc: 0.9838 - val_loss: 0.1630 - val_accuracy: 0.9355 - val_precision: 0.9317 - val_recall: 0.9171 - val_auc: 0.9829\n",
            "Epoch 10/20\n",
            "1578/1578 [==============================] - 56s 35ms/step - loss: 0.1519 - accuracy: 0.9400 - precision: 0.9407 - recall: 0.9189 - auc: 0.9854 - val_loss: 0.1647 - val_accuracy: 0.9346 - val_precision: 0.9116 - val_recall: 0.9390 - val_auc: 0.9839\n",
            "Epoch 11/20\n",
            "1578/1578 [==============================] - 56s 35ms/step - loss: 0.1481 - accuracy: 0.9415 - precision: 0.9423 - recall: 0.9223 - auc: 0.9862 - val_loss: 0.1537 - val_accuracy: 0.9400 - val_precision: 0.9426 - val_recall: 0.9163 - val_auc: 0.9847\n",
            "Epoch 12/20\n",
            "1578/1578 [==============================] - 56s 35ms/step - loss: 0.1418 - accuracy: 0.9448 - precision: 0.9442 - recall: 0.9268 - auc: 0.9873 - val_loss: 0.1498 - val_accuracy: 0.9417 - val_precision: 0.9323 - val_recall: 0.9320 - val_auc: 0.9856\n",
            "Epoch 13/20\n",
            "1578/1578 [==============================] - 56s 35ms/step - loss: 0.1372 - accuracy: 0.9466 - precision: 0.9453 - recall: 0.9298 - auc: 0.9880 - val_loss: 0.1469 - val_accuracy: 0.9425 - val_precision: 0.9341 - val_recall: 0.9320 - val_auc: 0.9861\n",
            "Epoch 14/20\n",
            "1578/1578 [==============================] - 56s 35ms/step - loss: 0.1354 - accuracy: 0.9472 - precision: 0.9452 - recall: 0.9318 - auc: 0.9883 - val_loss: 0.1437 - val_accuracy: 0.9443 - val_precision: 0.9354 - val_recall: 0.9351 - val_auc: 0.9868\n",
            "Epoch 15/20\n",
            "1578/1578 [==============================] - 56s 35ms/step - loss: 0.1316 - accuracy: 0.9488 - precision: 0.9462 - recall: 0.9350 - auc: 0.9890 - val_loss: 0.1413 - val_accuracy: 0.9448 - val_precision: 0.9430 - val_recall: 0.9278 - val_auc: 0.9871\n",
            "Epoch 16/20\n",
            "1578/1578 [==============================] - 56s 35ms/step - loss: 0.1256 - accuracy: 0.9517 - precision: 0.9498 - recall: 0.9377 - auc: 0.9899 - val_loss: 0.1405 - val_accuracy: 0.9446 - val_precision: 0.9524 - val_recall: 0.9170 - val_auc: 0.9875\n",
            "Epoch 17/20\n",
            "1578/1578 [==============================] - 56s 35ms/step - loss: 0.1244 - accuracy: 0.9516 - precision: 0.9485 - recall: 0.9395 - auc: 0.9901 - val_loss: 0.1377 - val_accuracy: 0.9459 - val_precision: 0.9438 - val_recall: 0.9296 - val_auc: 0.9878\n",
            "Epoch 18/20\n",
            "1578/1578 [==============================] - 56s 35ms/step - loss: 0.1205 - accuracy: 0.9539 - precision: 0.9506 - recall: 0.9425 - auc: 0.9907 - val_loss: 0.1369 - val_accuracy: 0.9467 - val_precision: 0.9432 - val_recall: 0.9321 - val_auc: 0.9880\n",
            "Epoch 19/20\n",
            "1578/1578 [==============================] - 55s 35ms/step - loss: 0.1185 - accuracy: 0.9539 - precision: 0.9503 - recall: 0.9425 - auc: 0.9910 - val_loss: 0.1334 - val_accuracy: 0.9480 - val_precision: 0.9520 - val_recall: 0.9256 - val_auc: 0.9886\n",
            "Epoch 20/20\n",
            "1578/1578 [==============================] - 55s 35ms/step - loss: 0.1133 - accuracy: 0.9559 - precision: 0.9529 - recall: 0.9452 - auc: 0.9918 - val_loss: 0.1309 - val_accuracy: 0.9489 - val_precision: 0.9495 - val_recall: 0.9306 - val_auc: 0.9889\n"
          ],
          "name": "stdout"
        }
      ]
    },
    {
      "cell_type": "code",
      "metadata": {
        "colab": {
          "base_uri": "https://localhost:8080/",
          "height": 1000
        },
        "id": "a8J1xUdMO6pd",
        "outputId": "1e200d51-fedc-488d-b23a-0405eea63389"
      },
      "source": [
        "plot_graphs(history7, \"accuracy\") \n",
        "plot_graphs(history7, \"auc\") \n",
        "plot_graphs(history7, \"precision\") \n",
        "plot_graphs(history7, \"recall\") \n",
        "plot_graphs(history7, \"loss\")"
      ],
      "execution_count": null,
      "outputs": [
        {
          "output_type": "display_data",
          "data": {
            "image/png": "[encoded data removed]",
            "text/plain": [
              "<Figure size 432x288 with 1 Axes>"
            ]
          },
          "metadata": {
            "tags": [],
            "needs_background": "light"
          }
        },
        {
          "output_type": "display_data",
          "data": {
            "image/png": "[encoded data removed]",
            "text/plain": [
              "<Figure size 432x288 with 1 Axes>"
            ]
          },
          "metadata": {
            "tags": [],
            "needs_background": "light"
          }
        },
        {
          "output_type": "display_data",
          "data": {
            "image/png": "[encoded data removed]",
            "text/plain": [
              "<Figure size 432x288 with 1 Axes>"
            ]
          },
          "metadata": {
            "tags": [],
            "needs_background": "light"
          }
        },
        {
          "output_type": "display_data",
          "data": {
            "image/png": "[encoded data removed]",
            "text/plain": [
              "<Figure size 432x288 with 1 Axes>"
            ]
          },
          "metadata": {
            "tags": [],
            "needs_background": "light"
          }
        },
        {
          "output_type": "display_data",
          "data": {
            "image/png": "[encoded data removed]",
            "text/plain": [
              "<Figure size 432x288 with 1 Axes>"
            ]
          },
          "metadata": {
            "tags": [],
            "needs_background": "light"
          }
        }
      ]
    },
    {
      "cell_type": "markdown",
      "metadata": {
        "id": "_qnHMVUEPMBG"
      },
      "source": [
        "###Valutazione con il test"
      ]
    },
    {
      "cell_type": "code",
      "metadata": {
        "id": "nNyZlOwBoh51"
      },
      "source": [
        "y_test_binary=test_labels['toxic']"
      ],
      "execution_count": null,
      "outputs": []
    },
    {
      "cell_type": "code",
      "metadata": {
        "colab": {
          "base_uri": "https://localhost:8080/"
        },
        "id": "Xt3P4XhuPKEe",
        "outputId": "e64845a8-6e2e-42ef-ae88-2ce4e7495935"
      },
      "source": [
        "y_pred_binary = (model_LSTM_binary.predict(x_test_data_augmentation) > 0.5).astype(\"int32\")\n",
        "print(classification_report(y_test_binary, y_pred_binary))"
      ],
      "execution_count": null,
      "outputs": [
        {
          "output_type": "stream",
          "text": [
            "              precision    recall  f1-score   support\n",
            "\n",
            "           0       0.99      0.87      0.93     57888\n",
            "           1       0.43      0.92      0.59      6090\n",
            "\n",
            "    accuracy                           0.88     63978\n",
            "   macro avg       0.71      0.90      0.76     63978\n",
            "weighted avg       0.94      0.88      0.90     63978\n",
            "\n"
          ],
          "name": "stdout"
        }
      ]
    },
    {
      "cell_type": "markdown",
      "metadata": {
        "id": "cXBCXdzRpFWq"
      },
      "source": [
        "##Modello Multilabel"
      ]
    },
    {
      "cell_type": "markdown",
      "metadata": {
        "id": "mKySNSHVQXlY"
      },
      "source": [
        "Definizione del modello multilabel nel caso in cui sia già stata riscontrata la presenza di tossicità nel commento."
      ]
    },
    {
      "cell_type": "code",
      "metadata": {
        "id": "F0Nig3TJpEMh"
      },
      "source": [
        "test_labels_toxic=test_labels.loc[(test_labels.toxic==1)]"
      ],
      "execution_count": null,
      "outputs": []
    },
    {
      "cell_type": "code",
      "metadata": {
        "id": "kOHRR-TXpYXf"
      },
      "source": [
        "test_toxic=test[test.id.isin(test_labels_toxic.id)].reset_index()\n"
      ],
      "execution_count": null,
      "outputs": []
    },
    {
      "cell_type": "markdown",
      "metadata": {
        "id": "vTiyzM5LQsiC"
      },
      "source": [
        "Tokenizzazione train"
      ]
    },
    {
      "cell_type": "code",
      "metadata": {
        "colab": {
          "base_uri": "https://localhost:8080/"
        },
        "id": "GMwPsGkhzCtK",
        "outputId": "ffd052b2-8681-4614-e007-4f0e5e43c234"
      },
      "source": [
        "train_augmented_toxic=train_augmented.loc[train_augmented.toxic==1]\n",
        "list_sentences_train = train_augmented_toxic['clean_comment_wo_stopwords'].fillna(\"null\").values\n",
        "tokenizer_toxic= text.Tokenizer(num_words=60000)\n",
        "tokenizer_toxic.fit_on_texts(list(list_sentences_train))\n",
        "list_tokenized_train = tokenizer_toxic.texts_to_sequences(list_sentences_train)\n",
        "average = sum(len(word) for word in list_tokenized_train) / len(list_tokenized_train)\n",
        "print(average)\n",
        "x_train_toxic = sequence.pad_sequences(list_tokenized_train, maxlen=150)"
      ],
      "execution_count": null,
      "outputs": [
        {
          "output_type": "stream",
          "text": [
            "29.902775231880337\n"
          ],
          "name": "stdout"
        }
      ]
    },
    {
      "cell_type": "markdown",
      "metadata": {
        "id": "LIyASU4kQm89"
      },
      "source": [
        "Tokenizzazione test"
      ]
    },
    {
      "cell_type": "code",
      "metadata": {
        "colab": {
          "base_uri": "https://localhost:8080/"
        },
        "id": "XuGS4UQqrbgW",
        "outputId": "4108a982-0529-4ac5-81d2-20079a48f429"
      },
      "source": [
        "list_sentences_test = test_toxic['clean_comment_wo_stopwords'].fillna('null').values\n",
        "list_tokenized_test = tokenizer_toxic.texts_to_sequences(list_sentences_test)\n",
        "average = sum(len(word) for word in list_tokenized_test) / len(list_tokenized_test)\n",
        "print(average)\n",
        "x_test_toxic= sequence.pad_sequences(list_tokenized_test, maxlen=150)"
      ],
      "execution_count": null,
      "outputs": [
        {
          "output_type": "stream",
          "text": [
            "21.78045977011494\n"
          ],
          "name": "stdout"
        }
      ]
    },
    {
      "cell_type": "markdown",
      "metadata": {
        "id": "wvA89qRRQvVk"
      },
      "source": [
        "Definizione del modello"
      ]
    },
    {
      "cell_type": "code",
      "metadata": {
        "colab": {
          "base_uri": "https://localhost:8080/"
        },
        "id": "vuBB_nkhrqvU",
        "outputId": "55c4a3cd-4d6b-45d2-f3b3-e6703bf92c50"
      },
      "source": [
        "model_LSTM_toxic = Sequential()\n",
        "model_LSTM_toxic.add(Embedding(input_dim=60000, output_dim=128,input_length=150))\n",
        "model_LSTM_toxic.add(Bidirectional((LSTM(128, dropout=0.3))))\n",
        "model_LSTM_toxic.add(Dense(5, activation=\"sigmoid\"))\n",
        "model_LSTM_toxic.summary()"
      ],
      "execution_count": null,
      "outputs": [
        {
          "output_type": "stream",
          "text": [
            "Model: \"sequential\"\n",
            "_________________________________________________________________\n",
            "Layer (type)                 Output Shape              Param #   \n",
            "=================================================================\n",
            "embedding (Embedding)        (None, 150, 128)          7680000   \n",
            "_________________________________________________________________\n",
            "bidirectional (Bidirectional (None, 256)               263168    \n",
            "_________________________________________________________________\n",
            "dense (Dense)                (None, 5)                 1285      \n",
            "=================================================================\n",
            "Total params: 7,944,453\n",
            "Trainable params: 7,944,453\n",
            "Non-trainable params: 0\n",
            "_________________________________________________________________\n"
          ],
          "name": "stdout"
        }
      ]
    },
    {
      "cell_type": "code",
      "metadata": {
        "id": "wfPDCigdsoBJ"
      },
      "source": [
        "y_train_toxic=train_augmented_toxic[train_augmented_toxic.columns[3:8]].values"
      ],
      "execution_count": null,
      "outputs": []
    },
    {
      "cell_type": "code",
      "metadata": {
        "colab": {
          "base_uri": "https://localhost:8080/"
        },
        "id": "56FVsxs-rx9t",
        "outputId": "b9e0ac85-6d7d-485c-bbd5-36471906ac18"
      },
      "source": [
        "optimizer=Adamax(learning_rate=1e-3)\n",
        "model_LSTM_toxic.compile(loss=\"binary_crossentropy\", optimizer=optimizer, metrics=['Precision', 'Recall', 'AUC'])\n",
        "num_epochs = 20\n",
        "early_stopping = EarlyStopping(monitor='val_loss', patience=3)\n",
        "history8 = model_LSTM_toxic.fit(x_train_toxic, y_train_toxic, epochs=num_epochs, batch_size=124, validation_split=0.2, verbose=1, callbacks=[early_stopping])"
      ],
      "execution_count": null,
      "outputs": [
        {
          "output_type": "stream",
          "text": [
            "Epoch 1/20\n",
            "704/704 [==============================] - 28s 36ms/step - loss: 0.4067 - precision: 0.8258 - recall: 0.6441 - auc: 0.8845 - val_loss: 0.3245 - val_precision: 0.8446 - val_recall: 0.7674 - val_auc: 0.9314\n",
            "Epoch 2/20\n",
            "704/704 [==============================] - 24s 34ms/step - loss: 0.3065 - precision: 0.8489 - recall: 0.7861 - auc: 0.9392 - val_loss: 0.2783 - val_precision: 0.8859 - val_recall: 0.7753 - val_auc: 0.9524\n",
            "Epoch 3/20\n",
            "704/704 [==============================] - 24s 34ms/step - loss: 0.2591 - precision: 0.8662 - recall: 0.8307 - auc: 0.9569 - val_loss: 0.2421 - val_precision: 0.8696 - val_recall: 0.8552 - val_auc: 0.9626\n",
            "Epoch 4/20\n",
            "704/704 [==============================] - 24s 34ms/step - loss: 0.2269 - precision: 0.8813 - recall: 0.8608 - auc: 0.9671 - val_loss: 0.2154 - val_precision: 0.8746 - val_recall: 0.8869 - val_auc: 0.9703\n",
            "Epoch 5/20\n",
            "704/704 [==============================] - 24s 34ms/step - loss: 0.1998 - precision: 0.8958 - recall: 0.8839 - auc: 0.9745 - val_loss: 0.1953 - val_precision: 0.8901 - val_recall: 0.8952 - val_auc: 0.9755\n",
            "Epoch 6/20\n",
            "704/704 [==============================] - 24s 35ms/step - loss: 0.1792 - precision: 0.9075 - recall: 0.8989 - auc: 0.9795 - val_loss: 0.1756 - val_precision: 0.9133 - val_recall: 0.8964 - val_auc: 0.9802\n",
            "Epoch 7/20\n",
            "704/704 [==============================] - 24s 34ms/step - loss: 0.1599 - precision: 0.9180 - recall: 0.9132 - auc: 0.9836 - val_loss: 0.1618 - val_precision: 0.9070 - val_recall: 0.9234 - val_auc: 0.9832\n",
            "Epoch 8/20\n",
            "704/704 [==============================] - 24s 35ms/step - loss: 0.1453 - precision: 0.9261 - recall: 0.9222 - auc: 0.9864 - val_loss: 0.1527 - val_precision: 0.9278 - val_recall: 0.9103 - val_auc: 0.9849\n",
            "Epoch 9/20\n",
            "704/704 [==============================] - 24s 35ms/step - loss: 0.1338 - precision: 0.9318 - recall: 0.9299 - auc: 0.9883 - val_loss: 0.1438 - val_precision: 0.9219 - val_recall: 0.9296 - val_auc: 0.9866\n",
            "Epoch 10/20\n",
            "704/704 [==============================] - 24s 34ms/step - loss: 0.1222 - precision: 0.9393 - recall: 0.9368 - auc: 0.9902 - val_loss: 0.1326 - val_precision: 0.9355 - val_recall: 0.9275 - val_auc: 0.9883\n",
            "Epoch 11/20\n",
            "704/704 [==============================] - 24s 35ms/step - loss: 0.1127 - precision: 0.9435 - recall: 0.9421 - auc: 0.9916 - val_loss: 0.1233 - val_precision: 0.9343 - val_recall: 0.9412 - val_auc: 0.9899\n",
            "Epoch 12/20\n",
            "704/704 [==============================] - 24s 34ms/step - loss: 0.1029 - precision: 0.9480 - recall: 0.9486 - auc: 0.9929 - val_loss: 0.1202 - val_precision: 0.9413 - val_recall: 0.9377 - val_auc: 0.9902\n",
            "Epoch 13/20\n",
            "704/704 [==============================] - 24s 34ms/step - loss: 0.0963 - precision: 0.9523 - recall: 0.9515 - auc: 0.9937 - val_loss: 0.1155 - val_precision: 0.9413 - val_recall: 0.9411 - val_auc: 0.9909\n",
            "Epoch 14/20\n",
            "704/704 [==============================] - 24s 34ms/step - loss: 0.0917 - precision: 0.9546 - recall: 0.9540 - auc: 0.9943 - val_loss: 0.1085 - val_precision: 0.9444 - val_recall: 0.9469 - val_auc: 0.9919\n",
            "Epoch 15/20\n",
            "704/704 [==============================] - 24s 34ms/step - loss: 0.0865 - precision: 0.9561 - recall: 0.9566 - auc: 0.9949 - val_loss: 0.1039 - val_precision: 0.9483 - val_recall: 0.9472 - val_auc: 0.9924\n",
            "Epoch 16/20\n",
            "704/704 [==============================] - 24s 34ms/step - loss: 0.0825 - precision: 0.9602 - recall: 0.9589 - auc: 0.9952 - val_loss: 0.1032 - val_precision: 0.9542 - val_recall: 0.9419 - val_auc: 0.9925\n",
            "Epoch 17/20\n",
            "704/704 [==============================] - 24s 34ms/step - loss: 0.0791 - precision: 0.9614 - recall: 0.9608 - auc: 0.9956 - val_loss: 0.0990 - val_precision: 0.9529 - val_recall: 0.9493 - val_auc: 0.9929\n",
            "Epoch 18/20\n",
            "704/704 [==============================] - 24s 35ms/step - loss: 0.0764 - precision: 0.9624 - recall: 0.9620 - auc: 0.9959 - val_loss: 0.0965 - val_precision: 0.9504 - val_recall: 0.9537 - val_auc: 0.9933\n",
            "Epoch 19/20\n",
            "704/704 [==============================] - 24s 34ms/step - loss: 0.0746 - precision: 0.9633 - recall: 0.9626 - auc: 0.9961 - val_loss: 0.0954 - val_precision: 0.9506 - val_recall: 0.9542 - val_auc: 0.9934\n",
            "Epoch 20/20\n",
            "704/704 [==============================] - 24s 34ms/step - loss: 0.0718 - precision: 0.9651 - recall: 0.9645 - auc: 0.9963 - val_loss: 0.0958 - val_precision: 0.9494 - val_recall: 0.9560 - val_auc: 0.9935\n"
          ],
          "name": "stdout"
        }
      ]
    },
    {
      "cell_type": "code",
      "metadata": {
        "colab": {
          "base_uri": "https://localhost:8080/",
          "height": 1000
        },
        "id": "_Pw6ZQ9iuQU5",
        "outputId": "57d9ad38-6500-4b51-fe9e-6790ffad359e"
      },
      "source": [
        "plot_graphs(history8, \"auc\") \n",
        "plot_graphs(history8, \"precision\") \n",
        "plot_graphs(history8, \"recall\") \n",
        "plot_graphs(history8, \"loss\")"
      ],
      "execution_count": null,
      "outputs": [
        {
          "output_type": "display_data",
          "data": {
            "image/png": "[encoded data removed]",
            "text/plain": [
              "<Figure size 432x288 with 1 Axes>"
            ]
          },
          "metadata": {
            "tags": [],
            "needs_background": "light"
          }
        },
        {
          "output_type": "display_data",
          "data": {
            "image/png": "[encoded data removed]",
            "text/plain": [
              "<Figure size 432x288 with 1 Axes>"
            ]
          },
          "metadata": {
            "tags": [],
            "needs_background": "light"
          }
        },
        {
          "output_type": "display_data",
          "data": {
            "image/png": "[encoded data removed]",
            "text/plain": [
              "<Figure size 432x288 with 1 Axes>"
            ]
          },
          "metadata": {
            "tags": [],
            "needs_background": "light"
          }
        },
        {
          "output_type": "display_data",
          "data": {
            "image/png": "[encoded data removed]",
            "text/plain": [
              "<Figure size 432x288 with 1 Axes>"
            ]
          },
          "metadata": {
            "tags": [],
            "needs_background": "light"
          }
        }
      ]
    },
    {
      "cell_type": "code",
      "metadata": {
        "id": "FHNIBH1M2_6c"
      },
      "source": [
        "y_test_toxic=test_labels_toxic[test_labels_toxic.columns[2:8]].values"
      ],
      "execution_count": null,
      "outputs": []
    },
    {
      "cell_type": "code",
      "metadata": {
        "colab": {
          "base_uri": "https://localhost:8080/"
        },
        "id": "EgjTWxUY2Q3b",
        "outputId": "9c7e564e-0177-48b5-ba3a-a876dc39b9da"
      },
      "source": [
        "y_pred = (model_LSTM_toxic.predict(x_test_toxic) > 0.5).astype(\"int32\")\n",
        "print(classification_report(y_test_toxic, y_pred, target_names=test_labels.columns[2:]))"
      ],
      "execution_count": null,
      "outputs": [
        {
          "output_type": "stream",
          "text": [
            "               precision    recall  f1-score   support\n",
            "\n",
            " severe_toxic       0.23      0.44      0.30       367\n",
            "      obscene       0.78      0.76      0.77      3626\n",
            "       threat       0.46      0.48      0.47       205\n",
            "       insult       0.70      0.67      0.68      3342\n",
            "identity_hate       0.60      0.51      0.55       693\n",
            "\n",
            "    micro avg       0.68      0.68      0.68      8233\n",
            "    macro avg       0.55      0.57      0.55      8233\n",
            " weighted avg       0.70      0.68      0.69      8233\n",
            "  samples avg       0.49      0.49      0.46      8233\n",
            "\n"
          ],
          "name": "stdout"
        },
        {
          "output_type": "stream",
          "text": [
            "/usr/local/lib/python3.6/dist-packages/sklearn/metrics/_classification.py:1272: UndefinedMetricWarning: Precision and F-score are ill-defined and being set to 0.0 in samples with no predicted labels. Use `zero_division` parameter to control this behavior.\n",
            "  _warn_prf(average, modifier, msg_start, len(result))\n",
            "/usr/local/lib/python3.6/dist-packages/sklearn/metrics/_classification.py:1272: UndefinedMetricWarning: Recall and F-score are ill-defined and being set to 0.0 in samples with no true labels. Use `zero_division` parameter to control this behavior.\n",
            "  _warn_prf(average, modifier, msg_start, len(result))\n"
          ],
          "name": "stderr"
        }
      ]
    }
  ]
}